{
 "cells": [
  {
   "cell_type": "markdown",
   "id": "excellent-timeline",
   "metadata": {},
   "source": [
    "**Competing in different settings**"
   ]
  },
  {
   "cell_type": "markdown",
   "id": "behavioral-cologne",
   "metadata": {},
   "source": [
    "In this project we consider 2 firms who compete in the same duopolistic market. There are 3 possible competition forms, which are characterized by\n",
    "\n",
    "• Cournot\n",
    "\n",
    "- Firms compete in quantities, and decide upon these independently and simultaneously \n",
    "\n",
    "- Firms profit maximize given the other's choice of quantity\n",
    "\n",
    "- Both firms have market power, thus one's decision of output affects the price of the other's goods\n",
    "\n",
    "• Bertrand\n",
    "\n",
    "- Firms compete in prices, and decide upon these simultaneously and as if they were in a perfect competition setting\n",
    "\n",
    "- We assume that consumers seek the lowest price (assuming the two products are homogenous)\n",
    "\n",
    "- When prices are set, output is given as \n",
    "\n",
    "$$D\\left(p_{i},p_{j}\\right)=\\begin{cases}\n",
    "D\\left(p_{i}\\right) & p_{i}<p_{j}\\\\\n",
    "\\frac{D\\left(p_{i}\\right)}{2} & p_{i}=p_{j}\\\\\n",
    "0 & p_{i}>p_{j}\n",
    "\\end{cases}$$\n",
    "\n",
    "• Stackelberg\n",
    "\n",
    "- Firms compete in quantities, and decide upon these sequentially. \n",
    "\n",
    "- One firm is assumed to be the leader, and the other is the follower. "
   ]
  },
  {
   "cell_type": "code",
   "execution_count": 340,
   "id": "expanded-nigeria",
   "metadata": {},
   "outputs": [],
   "source": [
    "#Import packages\n",
    "from scipy import optimize,arange\n",
    "from numpy import array\n",
    "import numpy as np\n",
    "import matplotlib.pyplot as plt\n",
    "import random\n",
    "import sympy as sm\n",
    "from math import *\n",
    "%matplotlib inline\n",
    "from IPython.display import Markdown, display\n"
   ]
  },
  {
   "cell_type": "markdown",
   "id": "impossible-amsterdam",
   "metadata": {},
   "source": [
    "**Bertand**"
   ]
  },
  {
   "cell_type": "markdown",
   "id": "practical-dublin",
   "metadata": {},
   "source": [
    "First we wanna solve the case of Bertand competetion, i.e a sitatuion, where the firms compete in prices. Here we consider two companies who are selling differentiated products. The quantity each firm produces is dependent on the on it's own price $p_1$ and the competitor's price $p_2$.\n",
    "$$x_1 = a - p_1 +bp_2$$\n",
    "$$x_2 = a - p_2 + bp_1$$\n",
    "The individual companies profits can be defined as: \n",
    "$$\\pi_1 = (p_1 - c_1)(a - p_1 +bp_2)$$\n",
    "$$\\pi_2 = (p_2 - c_2)(a - p_2 + bp_1).$$\n",
    "For the following parts we assume that both companies have identical marginal costs and thus $$c_1 = c_2 = c.$$"
   ]
  },
  {
   "cell_type": "code",
   "execution_count": 341,
   "id": "broke-portal",
   "metadata": {},
   "outputs": [],
   "source": [
    "#Variables\n",
    "a = sm.symbols('a')\n",
    "p1 = sm.symbols('p1') \n",
    "p2 = sm.symbols('p2') \n",
    "c = sm.symbols('c') \n",
    "b = sm.symbols('b') \n",
    "alpha=sm.symbols('alpha')\n",
    "\n",
    "#Frist we define the profit funtioncs for the two firms:  \n",
    "pi1 = (p1-c)*(a-p1+b*p2)\n",
    "pi2 = (p2-c)*(a-p2+b*p1)"
   ]
  },
  {
   "cell_type": "markdown",
   "id": "direct-samoa",
   "metadata": {},
   "source": [
    "In order to get the equilibrium price we first have to determine the first order conditions (FOC) by maximizing the profit functions of the individual firms with repsect to the prices they offer. \n",
    "$$\\frac{\\partial\\pi_1}{\\partial p_1}= a - 2p_1 + bp_2 + c=0$$\n",
    "$$\\frac{\\partial\\pi_2}{\\partial p_2}= a - 2p_2 + bp_1 + c=0$$\n",
    "\n",
    "By solving the first order conditions for the respective prices we arrive at the reaction functions. \n",
    "$$p_1^{*} = \\frac{a+ b*p_2 + c}{2}$$\n",
    "$$p_2^{*} = \\frac{a+ b*p_1 + c}{2}$$\n",
    "\n",
    "By setting them equal, since it is the best repsonse for both firms to set their price equal to the competitior's price, we arrive at our equilibrium price: \n",
    "$$p^{*} = \\frac{-(a+c)}{b-2}$$"
   ]
  },
  {
   "cell_type": "code",
   "execution_count": 342,
   "id": "honest-madagascar",
   "metadata": {},
   "outputs": [
    {
     "name": "stdout",
     "output_type": "stream",
     "text": [
      "-(a + c)/(b - 2)\n"
     ]
    }
   ],
   "source": [
    "#The first order conditions are then: \n",
    "FOC1 = sm.diff(pi1, p1)\n",
    "FOC2 = sm.diff(pi2, p2)\n",
    "\n",
    "\n",
    "#Reactionsfuncions \n",
    "RF1 = sm.solve(FOC1, p1)[0]\n",
    "RF2 = sm.solve(FOC2, p2)[0]\n",
    "\n",
    "#Equilibrium price\n",
    "RF12 = sm.solve(FOC2,p1)[0] \n",
    "EP1 = sm.solve(RF1-RF12,p2)[0]\n",
    "print(EP1) #Equilibrium price both companies will charge \n",
    "RF21 = sm.solve(FOC1,p2)[0] \n",
    "EP2 = sm.solve(RF2-RF21,p1)[0]"
   ]
  },
  {
   "cell_type": "markdown",
   "id": "recovered-tucson",
   "metadata": {},
   "source": [
    "Using the lambdify feature from the sympy package we can now make a function to solve the bertrand competition for chosen values. In this case we set $a$ equal to 101, $b$ equal to 0.1 and $c$ equal to 1 (the numbers were decided on arbitrarily). This yields an equilibrium price of 53. \n"
   ]
  },
  {
   "cell_type": "code",
   "execution_count": 343,
   "id": "thermal-sleeve",
   "metadata": {},
   "outputs": [
    {
     "data": {
      "text/markdown": [
       "The equilibrium price is $p$ = 53, the equilibrium quantity is $q$ = 52 and the profits for both firms are $π$ = 2775"
      ],
      "text/plain": [
       "<IPython.core.display.Markdown object>"
      ]
     },
     "metadata": {},
     "output_type": "display_data"
    }
   ],
   "source": [
    "#make it a function to solve it \n",
    "bertrand = sm.lambdify((a,b,c), EP1)\n",
    "price1=bertrand(101,0.1,1)\n",
    "quantity1 = 101 - 0.9*bertrand(101,0.1,1)\n",
    "profit1 = (bertrand(101,0.1,1)-1)*(101 - 0.9*bertrand(101,0.1,1))\n",
    "\n",
    "#Defining a way to print the solution in a fancy way\n",
    "def fancy(string):\n",
    "    display(Markdown(string))\n",
    "\n",
    "\n",
    "fancy(f'The equilibrium price is $p$ = {int(price1)}, the equilibrium quantity is $q$ = {int(quantity1)} and the profits for both firms are $π$ = {int(profit1)}') "
   ]
  },
  {
   "cell_type": "markdown",
   "id": "recreational-membrane",
   "metadata": {},
   "source": [
    "**Stackelberg**"
   ]
  },
  {
   "cell_type": "markdown",
   "id": "municipal-shock",
   "metadata": {},
   "source": [
    "We now turn to the Stackelberg, i.e a sequantiacal competion in quantities, thus one company is the leader and the other is a follower. "
   ]
  },
  {
   "cell_type": "code",
   "execution_count": 344,
   "id": "stunning-siemens",
   "metadata": {},
   "outputs": [],
   "source": [
    "#values \n",
    "p = sm.symbols('p')\n",
    "x1 = sm.symbols('x1')\n",
    "x2 = sm.symbols('x2')\n",
    "\n",
    "#Giving values to our parameters\n",
    "a = 101\n",
    "c = 1\n",
    "b = 0.1"
   ]
  },
  {
   "cell_type": "markdown",
   "id": "entire-power",
   "metadata": {},
   "source": [
    "Each firm chooses a quantitiy $x_{1}, x_{2}\\geq0$ where the cost of production is $c_{1}=c_{2}$. Each firm set the price $p = a-b\\left(x_{1}+x_{2}\\right)$. The profit function for firm $i$ is then written as $\\pi_{i}\\left(x_{i}\\right)=p\\left(x_{i}\\right)-c_{i}x_{i}$ Assume firm 1 is the leader and 2 is the follower. The game is solved by backward induction.\n",
    "  \n",
    "We will first define the inverse demand function $p$:"
   ]
  },
  {
   "cell_type": "code",
   "execution_count": 345,
   "id": "governmental-greece",
   "metadata": {},
   "outputs": [],
   "source": [
    "#Defining price\n",
    "p = a - b*(x1+x2)  "
   ]
  },
  {
   "cell_type": "markdown",
   "id": "present-wrestling",
   "metadata": {},
   "source": [
    "Then, we set up the profit function for firm 1 and firm 2:"
   ]
  },
  {
   "cell_type": "code",
   "execution_count": 346,
   "id": "agreed-machine",
   "metadata": {},
   "outputs": [],
   "source": [
    "#Profit function of firm 1\n",
    "profit_1 = p*x1 - c*x1\n",
    "profit_2 = p*x2 - c*x2"
   ]
  },
  {
   "cell_type": "markdown",
   "id": "agreed-oriental",
   "metadata": {},
   "source": [
    "We will say that firm 1 decides first on its output. Firm 2 observes the decision of firm 1 and decides how to reacht. We can solve the problem backwards and find optimal output of firm 2 for each possible output level of firm 1.  \n",
    "It means that we maximize the profit of firm 2 by differentiating it by $x_2$."
   ]
  },
  {
   "cell_type": "code",
   "execution_count": 347,
   "id": "personal-coverage",
   "metadata": {},
   "outputs": [
    {
     "data": {
      "text/latex": [
       "$\\displaystyle - 0.1 x_{1} - 0.2 x_{2} + 100$"
      ],
      "text/plain": [
       "-0.1*x1 - 0.2*x2 + 100"
      ]
     },
     "execution_count": 347,
     "metadata": {},
     "output_type": "execute_result"
    }
   ],
   "source": [
    "#Differentiating the profit of firm 2 by q2\n",
    "\n",
    "diff_profit_2 = sm.diff(profit_2, x2)\n",
    "diff_profit_2"
   ]
  },
  {
   "cell_type": "code",
   "execution_count": 348,
   "id": "better-composer",
   "metadata": {},
   "outputs": [
    {
     "data": {
      "text/latex": [
       "$\\displaystyle 500.0 - 0.5 x_{1}$"
      ],
      "text/plain": [
       "500.0 - 0.5*x1"
      ]
     },
     "execution_count": 348,
     "metadata": {},
     "output_type": "execute_result"
    }
   ],
   "source": [
    "#Finding optimal q2 by isolating q2 from the differentiation\n",
    "opt_2 = sm.solve(diff_profit_2, x2)\n",
    "opt_2[0]"
   ]
  },
  {
   "cell_type": "markdown",
   "id": "mature-colon",
   "metadata": {},
   "source": [
    "Then, we can substitute $q_2$ into the profit function of firm 1. Thanks to that, we have a single variable function."
   ]
  },
  {
   "cell_type": "code",
   "execution_count": 349,
   "id": "automotive-governor",
   "metadata": {},
   "outputs": [
    {
     "data": {
      "text/latex": [
       "$\\displaystyle x_{1} \\left(51.0 - 0.05 x_{1}\\right) - x_{1}$"
      ],
      "text/plain": [
       "x1*(51.0 - 0.05*x1) - x1"
      ]
     },
     "execution_count": 349,
     "metadata": {},
     "output_type": "execute_result"
    }
   ],
   "source": [
    "#Substituting q2 into the profit function of firm 1\n",
    "profit_1_subs = profit_1.subs(x2,opt_2[0])\n",
    "profit_1_subs"
   ]
  },
  {
   "cell_type": "markdown",
   "id": "southeast-magnet",
   "metadata": {},
   "source": [
    "Once again, we need to differentiate the profit of firm 1 by $q_1$ to find the optimal value of $q_1$."
   ]
  },
  {
   "cell_type": "code",
   "execution_count": 350,
   "id": "synthetic-struggle",
   "metadata": {},
   "outputs": [
    {
     "data": {
      "text/latex": [
       "$\\displaystyle 50.0 - 0.1 x_{1}$"
      ],
      "text/plain": [
       "50.0 - 0.1*x1"
      ]
     },
     "execution_count": 350,
     "metadata": {},
     "output_type": "execute_result"
    }
   ],
   "source": [
    "#Differentiating the profit of firm 1 by q1\n",
    "\n",
    "diff_profit_1 = sm.diff(profit_1_subs, x1)\n",
    "diff_profit_1"
   ]
  },
  {
   "cell_type": "code",
   "execution_count": 351,
   "id": "regulation-acquisition",
   "metadata": {},
   "outputs": [
    {
     "data": {
      "text/latex": [
       "$\\displaystyle 500.0$"
      ],
      "text/plain": [
       "500.000000000000"
      ]
     },
     "execution_count": 351,
     "metadata": {},
     "output_type": "execute_result"
    }
   ],
   "source": [
    "#Finding the optimal value of q1\n",
    "\n",
    "opt_1 = sm.solve(diff_profit_1, x1)\n",
    "opt_1[0]"
   ]
  },
  {
   "cell_type": "markdown",
   "id": "accomplished-girlfriend",
   "metadata": {},
   "source": [
    "Now, we can find the optimal value of $q_2$."
   ]
  },
  {
   "cell_type": "code",
   "execution_count": 352,
   "id": "essential-nancy",
   "metadata": {},
   "outputs": [
    {
     "data": {
      "text/latex": [
       "$\\displaystyle 250.0$"
      ],
      "text/plain": [
       "250.000000000000"
      ]
     },
     "execution_count": 352,
     "metadata": {},
     "output_type": "execute_result"
    }
   ],
   "source": [
    "opt_2_subs = opt_2[0].subs(x1,opt_1[0])\n",
    "opt_2_subs"
   ]
  },
  {
   "cell_type": "markdown",
   "id": "original-tender",
   "metadata": {},
   "source": [
    "We can also find the equilibrium market price, profit of firm 1 and profit of firm 2:"
   ]
  },
  {
   "cell_type": "code",
   "execution_count": 353,
   "id": "existing-livestock",
   "metadata": {},
   "outputs": [
    {
     "data": {
      "text/markdown": [
       "The equilibrium price is $p$ = 26, and the profits for both firms are $π_1$ = 12500 and $π_2$ = 6250"
      ],
      "text/plain": [
       "<IPython.core.display.Markdown object>"
      ]
     },
     "metadata": {},
     "output_type": "display_data"
    }
   ],
   "source": [
    "#Finding equilibrium market price\n",
    "p = a - b*(opt_1[0] + opt_2_subs)\n",
    "\n",
    "#Finding profit of firm 1\n",
    "profit_1 = p*opt_1[0] - c*opt_1[0]\n",
    "\n",
    "#Finding profit of firm 2\n",
    "profit_2 = p*opt_2_subs - c*opt_2_subs\n",
    "\n",
    "#Printing results (in a fancy way)\n",
    "fancy(f'The equilibrium price is $p$ = {int(p)}, and the profits for both firms are $π_1$ = {int(profit_1)} and $π_2$ = {int(profit_2)}')"
   ]
  },
  {
   "cell_type": "code",
   "execution_count": 354,
   "id": "organic-march",
   "metadata": {},
   "outputs": [
    {
     "data": {
      "text/plain": [
       "<function matplotlib.pyplot.show(close=None, block=None)>"
      ]
     },
     "execution_count": 354,
     "metadata": {},
     "output_type": "execute_result"
    },
    {
     "data": {
      "image/png": "[encoded data removed]",
      "text/plain": [
       "<Figure size 1080x720 with 1 Axes>"
      ]
     },
     "metadata": {
      "needs_background": "light"
     },
     "output_type": "display_data"
    }
   ],
   "source": [
    "#Defining the x-axis\n",
    "qu_1 = np.linspace(0, 1000, 1000)\n",
    "\n",
    "#Defining the lambda functions for our best responses functions\n",
    "BR2 = lambda qu_1 : 45 - qu_1/2\n",
    "BR1 = lambda qu_1 : 1/2 * (45 - qu_1/2)\n",
    "\n",
    "#Plotting the figure\n",
    "plt.figure(figsize=(15,10))\n",
    "plt.plot(qu_1, BR2(qu_1), label = \"Best Response of Firm 1\")\n",
    "plt.plot(qu_1, BR1(qu_1) , label = \"Best Response of Firm 2\")\n",
    "plt.grid(True)         \n",
    "plt.xlabel('$q1$')\n",
    "plt.ylabel('$q2$')\n",
    "plt.title('Best response functions')\n",
    "plt.legend()\n",
    "\n",
    "#To include a quantity of 0 for 1 firm, we set the axis like this\n",
    "plt.xlim(0,100) # sets the x-axis\n",
    "plt.ylim(-20,60) # Sets the y-axis\n",
    "\n",
    "\n",
    "plt.show"
   ]
  },
  {
   "cell_type": "markdown",
   "id": "mental-warren",
   "metadata": {},
   "source": [
    "This tells that when firm chooses a quantity of 45 in the first stage, firm 2 will choose a quantity half the size of firm 1 in second stage. In a case where firm 1 chooses to produce 90 units, firm 2 will then produce 0. "
   ]
  },
  {
   "cell_type": "markdown",
   "id": "defined-growing",
   "metadata": {},
   "source": [
    "**Cournot**"
   ]
  },
  {
   "cell_type": "markdown",
   "id": "finite-confusion",
   "metadata": {},
   "source": [
    "For the Cournot case we are gonna set up some functions to solve the model in order to make an extention with n firms. "
   ]
  },
  {
   "cell_type": "markdown",
   "id": "canadian-router",
   "metadata": {},
   "source": [
    "Consider the linear invese demand curve $p_{i}\\left(x_{i},x_{j}\\right)=a-x_{i}-bx_{j}$ where $b\\in\\left(0,1\\right)$ is the elasticity of substitution between the goods, i.e. indicates that the goods are heterogenous for $0<b<1$. \n",
    "\n",
    "We write the inverse demand:"
   ]
  },
  {
   "cell_type": "code",
   "execution_count": 355,
   "id": "fantastic-crisis",
   "metadata": {},
   "outputs": [],
   "source": [
    "def price(x1,x2,a,b):\n",
    "    \"\"\"A function that computes prices \n",
    "    args:\n",
    "    x1 (float): quantity for firm 1 \n",
    "    x2 (float): quantity for firm 2 \n",
    "    a (float):total demand \n",
    "    b (float): elasticity of substitution\n",
    "    Returns a float\"\"\"\n",
    "    return a-b*(x1+x2)\n"
   ]
  },
  {
   "cell_type": "markdown",
   "id": "warming-incidence",
   "metadata": {},
   "source": [
    "Firms have constant marginal costs, where total costs are given by $c\\left(x_{i,j}\\right)=cx_{i,j}$"
   ]
  },
  {
   "cell_type": "code",
   "execution_count": 356,
   "id": "dress-barrel",
   "metadata": {},
   "outputs": [],
   "source": [
    "def cost(x,c):\n",
    "    \"\"\"A function that computes total cost\n",
    "    args:\n",
    "    c = cost for firm i\n",
    "    x = quantity for firm i\n",
    "    Returns a float\"\"\"\n",
    "    if x == 0:\n",
    "     cost = 0\n",
    "    else:\n",
    "     cost = c*x\n",
    "    return cost"
   ]
  },
  {
   "cell_type": "markdown",
   "id": "intelligent-lewis",
   "metadata": {},
   "source": [
    "Firms maximize profits given the choice of the other firm such that $$\\pi\\left(x_{i},x_{j}\\right)=p_{i}\\left(x_{i},x_{j}\\right)x_{i}-c\\left(x_{i}\\right)$$"
   ]
  },
  {
   "cell_type": "code",
   "execution_count": 357,
   "id": "indirect-jacket",
   "metadata": {},
   "outputs": [],
   "source": [
    "def profit(x1,x2,c1,a,b):\n",
    "    \"\"\"A function that computes profit for firm 1\n",
    "    args:\n",
    "    x1 (float): quantity for firm 1 \n",
    "    x2 (float): quantity for firm 2 \n",
    "    c1 (float): cost for firm 1 \n",
    "    a (float):total demand \n",
    "    b (float): elasticity of substitution\n",
    "    Returns a float\"\"\"\n",
    "    return price(x1,x2,a,b)*x1-cost(x1,c1)"
   ]
  },
  {
   "cell_type": "markdown",
   "id": "vanilla-factory",
   "metadata": {},
   "source": [
    "In a Cournot setting, firm $i$ chooses $x_{i}$ taking $x_{j}$ as given. Thus, the Nash equilibrium for $x_{i}^{*},x_{j}^{*}$ holds for $$x_{i}^{*}=\\text{arg}\\underset{x_{i}}{\\text{ max }}\\pi\\left(x_{i},x_{j}^{*}\\right)\\;\\;\\;\\;\\;\\;\\text{for each }i\\neq j$$ Thus, we are able to find firm $i$ optimal production level given the choice of $x_{j}$ by creating the function 'reaction'. Hence, taking the first order condition to find the Nash equilibrium for $x_{i}^{*},x_{j}^{*}$ yields $$\\frac{\\partial\\pi\\left(x_{i},x_{j}\\right)}{\\partial x_{i,j}}=0$$\n",
    "\n",
    "In this case, we also want to calculate the profit maximizing outcome, so we use the function 'brute'. This allows one to look for the global maximum of $\\pi$. Likewise, we keep in mind that 'scipy optimize' is bound to minimize problems, and since we want to maximize the profit function, we then minimize $-\\pi\\left(x_{i},x_{j}\\right)$. "
   ]
  },
  {
   "cell_type": "code",
   "execution_count": 358,
   "id": "funded-queen",
   "metadata": {},
   "outputs": [],
   "source": [
    "def reaction(x2,c1,b,a):\n",
    "    \"\"\"A function that computes the optimal quantity\n",
    "    args\n",
    "    x2 (float): quantity for firm 2\n",
    "    c1 (float): cost for firm 1\n",
    "    b (float): elasticity of substitution\n",
    "    a (float): total demand \n",
    "    \"\"\"\n",
    "    x1 = optimize.brute(lambda x: -profit(x,x2,c1,a,b), ((0,1,),)) \n",
    "                                                                 \n",
    "    return x1[0]"
   ]
  },
  {
   "cell_type": "markdown",
   "id": "promising-radar",
   "metadata": {},
   "source": [
    "Now, we must find an equilibrium for price and quantity given their best response. For this reason, consider the vector function $f\\left(x_{i},x_{j}\\right)$ which takes firm $i$'s best response $r_{i}\\left(x_{j}\\right)$ to $j$'s production level $x_{j}$ into consideration. We can write this as $$f\\left(x_{i},x_{j}\\right)=\\left[\\begin{array}{c}\n",
    "r_{i}\\left(x_{j}^{*}\\right)\\\\\n",
    "r_{j}\\left(x_{i}^{*}\\right)\n",
    "\\end{array}\\right]$$ \n",
    "\n",
    "We are then looking for the quantities produced is equal to best response given what the other firm produce, i.e the point where: \n",
    "\n",
    "$$\\left(\\begin{array}{c}\n",
    "x_{1}^{*}\\\\\n",
    "x_{2}^{*}\n",
    "\\end{array}\\right)=\\left(\\begin{array}{c}\n",
    "r_{1}(x_{2}^{*})\\\\\n",
    "r_{2}(x_{1}^{*})\n",
    "\\end{array}\\right)$$\n",
    "\n",
    "Thus, we create a function 'vector_reaction' given by the difference between an array of the quantaites subtracted by the best response functions and pass $b,a, c_{i},c_{j}$ as a vector of parameters. "
   ]
  },
  {
   "cell_type": "code",
   "execution_count": 359,
   "id": "statewide-guyana",
   "metadata": {},
   "outputs": [],
   "source": [
    "def vector_reaction(x,param): \n",
    "    \"\"\"A function that computes the difference between the quantities and the beste response functions\n",
    "    args\n",
    "    x : quantaties\n",
    "    param : list of parameters\"\"\"\n",
    "    return array(x)-array([reaction(x[1],param[2],param[0],param[1]),reaction(x[0],param[3],param[0], param[1])])"
   ]
  },
  {
   "cell_type": "markdown",
   "id": "needed-wellington",
   "metadata": {},
   "source": [
    "Now, moving on to find the actual Cournot equilibrium, we are able to set the values of each paramter. Using the 'fsolve' from 'scipy.optimize' to find $x$. Also, giving 'fsolve' the inital guess of the quantaites, while passing the paramater vector 'param' as arguments 'args' to 'fsolve', this yields:"
   ]
  },
  {
   "cell_type": "code",
   "execution_count": 360,
   "id": "settled-appreciation",
   "metadata": {},
   "outputs": [
    {
     "data": {
      "text/markdown": [
       "The Nash equilibrium quantity for both firms are $x^* =[x_1^*,x_2^*]$ = [333.33330078 333.33330078] where the equilibrium price for both firms are $p^*$ = 34.333339843749854 with a profit of $\\pi^*$= 11111.11219618032"
      ],
      "text/plain": [
       "<IPython.core.display.Markdown object>"
      ]
     },
     "metadata": {},
     "output_type": "display_data"
    }
   ],
   "source": [
    "param = [0.1,101,1,1]\n",
    "x0 = [0.3, 0.3]\n",
    "\n",
    "EQ = optimize.fsolve(vector_reaction, x0, args = (param))\n",
    "EQ\n",
    "\n",
    "def fancy(string):\n",
    "    display(Markdown(string))\n",
    "\n",
    "fancy(f'The Nash equilibrium quantity for both firms are $x^* =[x_1^*,x_2^*]$ = {EQ} where the equilibrium price for both firms are $p^*$ = {price(EQ[0],EQ[1],101,0.1)} with a profit of $\\pi^*$= {profit(EQ[0],EQ[1],1,101,0.1)}')\n"
   ]
  },
  {
   "cell_type": "markdown",
   "id": "split-missouri",
   "metadata": {},
   "source": [
    "We now wont to show, how the quantity produced changes, when the cost of firm 1 changes."
   ]
  },
  {
   "cell_type": "code",
   "execution_count": 361,
   "id": "patent-english",
   "metadata": {},
   "outputs": [
    {
     "data": {
      "text/plain": [
       "<function matplotlib.pyplot.show(close=None, block=None)>"
      ]
     },
     "execution_count": 361,
     "metadata": {},
     "output_type": "execute_result"
    },
    {
     "data": {
      "image/png": "[encoded data removed]",
      "text/plain": [
       "<Figure size 576x396 with 1 Axes>"
      ]
     },
     "metadata": {},
     "output_type": "display_data"
    }
   ],
   "source": [
    "range_c = np.linspace(1,0,20)\n",
    "range_x = [optimize.fsolve(vector_reaction, x0, args = ([0.1,101, c, 1])) for c in range_c]\n",
    "\n",
    "plt.style.use('seaborn')\n",
    "plt.clf()\n",
    "plt.plot(range_c,array(range_x)[:,0], label = '$x_1$')\n",
    "plt.plot(range_c,array(range_x)[:,1], label = '$x_2$')\n",
    "plt.xlabel('$c_1$')\n",
    "plt.ylabel('$x$')\n",
    "plt.legend()\n",
    "plt.show"
   ]
  },
  {
   "cell_type": "markdown",
   "id": "distinguished-shooting",
   "metadata": {},
   "source": [
    "In the figure, we see, that as the cost of firm 1 goes up, the quantity produced by firm 1 falls, while the quantity produced by firm 2 goes up."
   ]
  },
  {
   "cell_type": "markdown",
   "id": "handed-information",
   "metadata": {},
   "source": [
    "**Compare all three cases**"
   ]
  },
  {
   "cell_type": "markdown",
   "id": "caroline-plate",
   "metadata": {},
   "source": [
    "We have now tried to solve a situation with two firms competing with three different models, giveing them the same parameter values. This leads to the following results:"
   ]
  },
  {
   "cell_type": "code",
   "execution_count": 362,
   "id": "mexican-fifty",
   "metadata": {},
   "outputs": [
    {
     "data": {
      "text/markdown": [
       "For Betrand: The equilibrium price is $p$ = 53, the equilibrium quantity is $q$ = 52 and the profits for both firms are $π$ = 2775"
      ],
      "text/plain": [
       "<IPython.core.display.Markdown object>"
      ]
     },
     "metadata": {},
     "output_type": "display_data"
    },
    {
     "data": {
      "text/markdown": [
       "For Stackelberg: the equilibrium price is $p$ = 26, and the profits for both firms are $π_1$ = 12500 and $π_2$ = 6250"
      ],
      "text/plain": [
       "<IPython.core.display.Markdown object>"
      ]
     },
     "metadata": {},
     "output_type": "display_data"
    },
    {
     "data": {
      "text/markdown": [
       "For Cournot: the equilibrium quantity for both firms are $x^* =[x_1^*,x_2^*]$ = [333.33330078 333.33330078] where the equilibrium price for both firms are $p^*$ = 34.333339843749854 with a profit of $\\pi^*$= 11111.11219618032"
      ],
      "text/plain": [
       "<IPython.core.display.Markdown object>"
      ]
     },
     "metadata": {},
     "output_type": "display_data"
    }
   ],
   "source": [
    "fancy(f'For Betrand: The equilibrium price is $p$ = {int(price1)}, the equilibrium quantity is $q$ = {int(quantity1)} and the profits for both firms are $π$ = {int(profit1)}') \n",
    "fancy(f'For Stackelberg: the equilibrium price is $p$ = {int(p)}, and the profits for both firms are $π_1$ = {int(profit_1)} and $π_2$ = {int(profit_2)}')\n",
    "fancy(f'For Cournot: the equilibrium quantity for both firms are $x^* =[x_1^*,x_2^*]$ = {EQ} where the equilibrium price for both firms are $p^*$ = {price(EQ[0],EQ[1],101,0.1)} with a profit of $\\pi^*$= {profit(EQ[0],EQ[1],1,101,0.1)}')\n"
   ]
  },
  {
   "cell_type": "markdown",
   "id": "stable-adrian",
   "metadata": {},
   "source": [
    "**Cournot with n> 2 firms**"
   ]
  },
  {
   "cell_type": "markdown",
   "id": "supported-boxing",
   "metadata": {},
   "source": [
    "We now want to investigate the case of N > 2 firms. First we set up the situation theoretically. Following the notation from ealier we now add: \n",
    "\n",
    "-Firm $i$'s output: $x_i$\n",
    "\n",
    "-Total output in in industry: $X=x_1+x_2+...+x_n$\n",
    "\n",
    "-The opponent's output: $x_{-i} = X-x_i$\n",
    "\n",
    "Each firm will then max profit given the expectation of $x_{-i}$: \n",
    "\n",
    "$$\\Pi_i(x_{-i},x_i)=(p(x_{-i}+x_i)-c_i)x_i$$\n",
    "\n",
    "as with the n = 2 case we use the invese demand funcktion in a linear case:\n",
    "\n",
    "$$p = a-b(x_{-i}+x_i)=a-bX$$ \n",
    "\n",
    "The FOC of is then:\n",
    "$$\\frac{\\delta \\Pi_i}{\\delta x_i} = \\frac{\\delta p}{\\delta x_i} \\cdot x_i + p-c_i = 0$$\n",
    "\n",
    "\n",
    "where $\\frac{\\delta p}{\\delta x_i} = -b$ giving us\n",
    "\n",
    "$$\\frac{\\delta\\Pi_i}{\\delta x_i} : -bx_i + p-c_i = 0$$\n",
    "\n",
    "inserting the inverse demand function:\n",
    "\n",
    "$$\\frac{\\delta\\Pi_i}{\\delta x_i} : -bx_i + (a-b(x_{-i}+x_{i}))-c_i = 0$$\n",
    "\n",
    "solving for $x_i$ to get the reaction function for firm $i$ given its expectation for the amount the rest of the firms produce:\n",
    "\n",
    "$$x_i(x_{-i}) = \\frac{a-c}{2b}-\\frac{1}{2}x_{-i}$$\n",
    "\n",
    "which is the case for all firms $i=1,..,n$. We have $X=x_i+x_{-i}$ so the FOC found earlier can be rewritten to:\n",
    "$$ -bx_i + (a-bX-c_i) = 0$$\n",
    "\n",
    "which for the n firms:\n",
    "$$-bX + n(a-bX)-n\\bar c = 0$$\n",
    "\n",
    "where we use the average cost level: $\\bar c = \\frac{c_1+c_2+...+c_n}{n}$\n",
    "\n",
    "we can now rewrite this and get the quantity produced and the price in the market: \n",
    "\n",
    "$$bX + n(bX) = n(A-\\bar c)$$\n",
    "\n",
    "$$(n+1)bX  = n(A-\\bar c)$$\n",
    "\n",
    "Quantity is then:\n",
    "\n",
    "$$X = \\frac{n}{n+1} \\frac{a-\\bar c}{b}$$\n",
    "\n",
    "Price is:\n",
    "$$p = a-bX = a-b[\\frac{n}{n+1} \\frac{a-\\bar c}{b}] = \\frac{1}{n+1}a + \\frac{n}{n+1}\\bar c$$\n",
    "\n",
    "\n",
    "Using the found functions we can now try to set a program that is able to solve cases with N firms. \n"
   ]
  },
  {
   "cell_type": "code",
   "execution_count": 363,
   "id": "serial-wallpaper",
   "metadata": {},
   "outputs": [],
   "source": [
    "def Round(a): # Function to print floats rounded as strings \n",
    "    return str(\"{:.0f}\".format(a))"
   ]
  },
  {
   "cell_type": "markdown",
   "id": "hispanic-philip",
   "metadata": {},
   "source": [
    "First we define a function, that calculates the prices $p = \\frac{1}{n+1}a + \\frac{n}{n+1}\\bar c $ rewriting using the definition of the average cost level gives: $p= \\frac{1}{n+1}a + \\frac{c_1+c_2+...+c_n}{n+1}$ which we use in our function."
   ]
  },
  {
   "cell_type": "code",
   "execution_count": 364,
   "id": "crude-anniversary",
   "metadata": {},
   "outputs": [],
   "source": [
    "def price_eq(a, n, c): #Returns the equilibirum price given n firms \n",
    "    \"\"\"A function that computes price\n",
    "    args:\n",
    "    a (float):total demand \n",
    "    n (float):number of firms \n",
    "    c (float): cost of firm i \n",
    "    Returns a float\"\"\"\n",
    "        \n",
    "    price = max((a-sum(c))/(1+n), 0)\n",
    "    return price"
   ]
  },
  {
   "cell_type": "markdown",
   "id": "international-acrobat",
   "metadata": {},
   "source": [
    "We now want to define a function that returns the quantity produced for firm $i$.\n",
    "this is given by:\n",
    "$$x_i = \\frac{a-bX-c_i}{b}=\\frac{a-c_i}{b}-\\frac{n}{n+1}\\frac{a-\\bar c}{b} = \\frac{1}{n+1}\\frac{a}{b}+ \\frac{n(\\bar c -c_i)-c_i}{(n+1)b} = \\frac{1}{n+1}\\frac{1}{b}[a- n(\\bar c -c_i)-c_i]$$\n",
    "\n",
    "use that $\\bar c = \\frac{c_1+c_2+...+c_n}{n}$\n",
    "$$x_i = \\frac{1}{n+1}\\frac{1}{b}[a+ nc_i+(c_1+c_2+...+c_n-c_i)]$$\n",
    "which we now use to define a function, that returns the quantity: "
   ]
  },
  {
   "cell_type": "code",
   "execution_count": 365,
   "id": "opposed-ontario",
   "metadata": {},
   "outputs": [],
   "source": [
    "def xi_eq(a, b, n, c, i): #Returns equilibrium quantity for firm i\n",
    "    \"\"\"A function that computes quantity for firm i\n",
    "    args:\n",
    "    a (float):total demand \n",
    "    b (float):elasticity of substitution between the good\n",
    "    n (float):number of firms \n",
    "    c (float): cost of firm i \n",
    "    i (integer): the number of the firm\n",
    "    Returns a float\"\"\"\n",
    "    \n",
    "    x_i = max((1/b)*((a-n*c[i]+(sum(c)-c[i]))/(1+n)), 0)\n",
    "    if x_i < 1: #in order to avoide solutions with low quantities\n",
    "        x_i = 0\n",
    "        \n",
    "    return x_i"
   ]
  },
  {
   "cell_type": "markdown",
   "id": "scheduled-mouse",
   "metadata": {},
   "source": [
    "We can then define a function, that returns the quantity for the entire number of firms "
   ]
  },
  {
   "cell_type": "code",
   "execution_count": 366,
   "id": "bound-design",
   "metadata": {},
   "outputs": [],
   "source": [
    "def X_eq(a, b, n, c): \n",
    "    \"\"\"A function that computes quantity for the total amount of firms \n",
    "    args:\n",
    "    a (float):total demand \n",
    "    b (float):elasticity of substitution between the good\n",
    "    n (float):number of firms \n",
    "    c (float): cost of firm i \n",
    "    Returns a float\"\"\"\n",
    "    \n",
    "    X = []\n",
    "    for i in range(0, n+1, 1):\n",
    "        X.append(xi_eq(a, b, n, c, i))\n",
    "        \n",
    "    return sum(X)"
   ]
  },
  {
   "cell_type": "markdown",
   "id": "studied-official",
   "metadata": {},
   "source": [
    "Based on the assumtion that $$c_i = \\bar c = c $$ the profit for firm $i$ can be found by:\n",
    "$$\\Pi_{i}=(p-c)x_{i}=\\left(\\frac{a+nc}{n+1}-c\\right)\\frac{1}{n+1}\\frac{1}{b}(a-c)$$.\n",
    "\n",
    "Without identical marginal costs $$c_i \\neq c $$ $$\\bar c \\neq c$$ the profit for firm $i$ would be: \n",
    "$$\\Pi_{i}=(p-c_i)x_{i}=\\left(\\frac{a+n\\bar c}{n+1}-c_i\\right)\\frac{1}{n+1}\\frac{1}{b}(a+n(\\bar c - c_i)-c_1) = \\frac{1}{(n+1)^2 * b}(a+n(\\bar c - c_1)-c_i)^2$$.\n",
    "\n",
    "By maximizing the previously derived profit function we find thh equilibrium profit."
   ]
  },
  {
   "cell_type": "code",
   "execution_count": 367,
   "id": "frequent-bosnia",
   "metadata": {},
   "outputs": [],
   "source": [
    "def profit_eq(a, b, n, c, i): #Returns profit for firm i\n",
    "    \"\"\"A function that computes profit for firm i\n",
    "    args:\n",
    "    a (float):total demand \n",
    "    b (float):elasticity of substitution between the good\n",
    "    n (float):number of firms \n",
    "    c (float): cost of firm i \n",
    "    i (integer): the number of the firm\n",
    "    Returns a float\"\"\"\n",
    "    \n",
    "    if xi_eq(a, b, n, c, i) == 0: #Profits set to zero if no production\n",
    "        profit = 0\n",
    "    else:\n",
    "        profit = max((1/b)*(((a-n*c[i]+(sum(c)-c[i]))/(1+n))**2), 0)\n",
    "        \n",
    "    return profit\n"
   ]
  },
  {
   "cell_type": "markdown",
   "id": "israeli-mambo",
   "metadata": {},
   "source": [
    "We are now ready to define a function, that can solve a general case of cournot competetion with n firms. We choose the number of firms to be drawn randomely using random.randint, while the cost for each firm will be drawn from a uniform destribution using random.uniform. "
   ]
  },
  {
   "cell_type": "code",
   "execution_count": 368,
   "id": "sought-helena",
   "metadata": {},
   "outputs": [],
   "source": [
    "def sim_general(a, b, N, c_low, c_high): \n",
    "    \"\"\"A function that draws number of firms and compute quantaties, price and average profit\n",
    "    args:\n",
    "    a (float):total demand \n",
    "    b (float):elasticity of substitution between the good\n",
    "    N (float): the maximal number of firms that can be drawn \n",
    "    c_low (float): the lower bound of the interval for the cost \n",
    "    c_high (float): the upper bound of the interval for the cost \n",
    "    Returns a float\"\"\"\n",
    " \n",
    "  \n",
    "    #draw the number of firms:\n",
    "    n = random.randint(2, N) \n",
    "    \n",
    "    #Assymmetric costs for each firm:\n",
    "    c = []\n",
    "    for i in range(0, n+1, 1):\n",
    "        c_i = random.uniform(c_low, c_high)\n",
    "        c.append(c_i)\n",
    "    \n",
    "    #the price: \n",
    "    price = price_eq(a, n, c) \n",
    "    \n",
    "    #quantities and profits\n",
    "    xi_list = []\n",
    "    profiti_list = []\n",
    "    for i in range(0, n+1, 1):\n",
    "        xi_list.append(xi_eq(a, b, n, c, i))\n",
    "        profiti_list.append(profit_eq(a, b, n, c, i))\n",
    "   \n",
    "    \n",
    "    #The quantity for the entire number of firms\n",
    "    X = X_eq(a, b, n, c)\n",
    "\n",
    "    \n",
    "        \n",
    "    output = print('\\n The number of firms drawn are ' + Round(n)  + \n",
    "                  '\\n The total amount produced is ' + Round(X) +',' + ' while the price is ' + Round(price) + \n",
    "                   '\\n The average profit for each firm is ' + Round(np.array(profiti_list).mean()) + '.'\n",
    "                   '\\n')\n",
    "    \n",
    "    return output\n",
    "    \n",
    "\n",
    "    "
   ]
  },
  {
   "cell_type": "markdown",
   "id": "cooked-bottom",
   "metadata": {},
   "source": [
    "We are now ready to try a case with parameters as in the n = 2, but with a randomw number of firms drawn:"
   ]
  },
  {
   "cell_type": "code",
   "execution_count": 369,
   "id": "relative-refund",
   "metadata": {},
   "outputs": [
    {
     "name": "stdout",
     "output_type": "stream",
     "text": [
      "\n",
      " The number of firms drawn are 6\n",
      " The total amount produced is 1010, while the price is 11\n",
      " The average profit for each firm is 2093.\n",
      "\n"
     ]
    }
   ],
   "source": [
    "a = 101\n",
    "b = 0.1\n",
    "N = 50\n",
    "c_low = 1\n",
    "c_high = 5\n",
    "sim_general(a, b, N, c_low, c_high)\n"
   ]
  },
  {
   "cell_type": "markdown",
   "id": "ruled-simulation",
   "metadata": {},
   "source": [
    "**Conclusion**"
   ]
  },
  {
   "cell_type": "markdown",
   "id": "expected-lightweight",
   "metadata": {},
   "source": [
    "In this paper we examine two firms who have the possibility of competing in Bertrand, Stackelberg and Cournot. We use the same parameter values for all competition types, and find that the firms benefit the most from competing in a Cournot setting as this yields the highest total profits of 22,222. This is intuitive, as in contrast to Bertrand, the firms will undercut each other until their price is equal to their marginal costs to obtain efficiency. Therefore, this setting yields a price as in perfect competition, whereas Cournot yields an oligopoly equilibrium. \n",
    "\n",
    "As Cournot yields the best outcome in terms of profits for two firms, we extend this setting for $n$ firms. We find that for $n\\rightarrow\\infty$, the average profit for a firm decreases because competing in quantities becomes more intense as the competition setting moves from oligopoly to infinitely many firms competing in quantities."
   ]
  }
 ],
 "metadata": {
  "kernelspec": {
   "display_name": "Python 3",
   "language": "python",
   "name": "python3"
  },
  "language_info": {
   "codemirror_mode": {
    "name": "ipython",
    "version": 3
   },
   "file_extension": ".py",
   "mimetype": "text/x-python",
   "name": "python",
   "nbconvert_exporter": "python",
   "pygments_lexer": "ipython3",
   "version": "3.8.5"
  }
 },
 "nbformat": 4,
 "nbformat_minor": 5
}
