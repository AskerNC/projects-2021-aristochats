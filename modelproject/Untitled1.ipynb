{
 "cells": [
  {
   "cell_type": "code",
   "execution_count": null,
   "id": "engaging-booking",
   "metadata": {},
   "outputs": [],
   "source": []
  },
  {
   "cell_type": "code",
   "execution_count": 1,
   "id": "original-officer",
   "metadata": {},
   "outputs": [],
   "source": [
    "#Import packages\n",
    "from scipy import optimize,arange\n",
    "from numpy import array\n",
    "import numpy as np\n",
    "import matplotlib.pyplot as plt\n",
    "import random\n",
    "import sympy as sm\n",
    "from math import *\n",
    "%matplotlib inline\n",
    "from IPython.display import Markdown, display\n",
    "import pandas as pd\n",
    "\n"
   ]
  },
  {
   "cell_type": "code",
   "execution_count": 22,
   "id": "ceramic-consortium",
   "metadata": {},
   "outputs": [
    {
     "data": {
      "text/latex": [
       "$\\displaystyle a - b q_{i} - b \\left(q_{i} + q_{-i}\\right) - c_{vec}$"
      ],
      "text/plain": [
       "a - b*q_i - b*(q_i + q_{-i}) - c_vec"
      ]
     },
     "execution_count": 22,
     "metadata": {},
     "output_type": "execute_result"
    }
   ],
   "source": [
    "a = sm.symbols('a') \n",
    "c_vec = sm.symbols('c_vec') \n",
    "b = sm.symbols('b') \n",
    "q_vec = sm.symbols('q_i') # q for firm i\n",
    "q_minus = sm.symbols('q_{-i}') # q for the the opponents\n",
    "\n",
    "#The profit of firm 1 is then: \n",
    "Pi_i = q_vec*((a-b*(q_vec+q_minus))-c_vec)\n",
    "\n",
    "#giving focs:\n",
    "foc = sm.diff(Pi_i,q_vec)\n",
    "foc\n"
   ]
  },
  {
   "cell_type": "markdown",
   "id": "alpine-planning",
   "metadata": {},
   "source": [
    "In order to use this in our solutionen, we rewrite $x_{i}+x_{-i} = \\sum x_{i}$ using np.sum and then define a function for the foc"
   ]
  },
  {
   "cell_type": "code",
   "execution_count": 21,
   "id": "czech-signal",
   "metadata": {},
   "outputs": [],
   "source": [
    "def foc1(a,b,q_vec,c_vec):\n",
    "    # Using the result from the sympy.diff \n",
    "    return -b*q_vec+a-b*np.sum(q_vec)-c_vec"
   ]
  },
  {
   "cell_type": "code",
   "execution_count": null,
   "id": "eligible-workstation",
   "metadata": {},
   "outputs": [],
   "source": []
  }
 ],
 "metadata": {
  "kernelspec": {
   "display_name": "Python 3",
   "language": "python",
   "name": "python3"
  },
  "language_info": {
   "codemirror_mode": {
    "name": "ipython",
    "version": 3
   },
   "file_extension": ".py",
   "mimetype": "text/x-python",
   "name": "python",
   "nbconvert_exporter": "python",
   "pygments_lexer": "ipython3",
   "version": "3.8.5"
  }
 },
 "nbformat": 4,
 "nbformat_minor": 5
}
