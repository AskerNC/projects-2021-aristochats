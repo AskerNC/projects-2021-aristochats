{
 "cells": [
  {
   "cell_type": "markdown",
   "id": "attractive-soundtrack",
   "metadata": {},
   "source": [
    "**Competing in different settings**"
   ]
  },
  {
   "cell_type": "markdown",
   "id": "fifteen-reader",
   "metadata": {},
   "source": [
    "In this project we consider 2 firms who compete in the same duopolistic market. We will look at three possible competition forms, which are characterized by\n",
    "\n",
    "**Cournot**\n",
    "\n",
    "- Firms compete in quantities, and decide upon these independently and simultaneously \n",
    "\n",
    "- Firms profit maximize given the other's choice of quantity\n",
    "\n",
    "- Both firms have market power, thus one's decision of output affects the price of the other's goods\n",
    "\n",
    "**Bertrand**\n",
    "\n",
    "- Firms compete in prices, and decide upon these simultaneously and as if they were in a perfect competition setting\n",
    "\n",
    "- We assume that consumers seek the lowest price (assuming the two products are homogenous)\n",
    "\n",
    "- When prices are set, output is given as \n",
    "\n",
    "$$D\\left(p_{i},p_{j}\\right)=\\begin{cases}\n",
    "D\\left(p_{i}\\right) & p_{i}<p_{j}\\\\\n",
    "\\frac{D\\left(p_{i}\\right)}{2} & p_{i}=p_{j}\\\\\n",
    "0 & p_{i}>p_{j}\n",
    "\\end{cases}$$\n",
    "\n",
    "**Stackelberg**\n",
    "\n",
    "- Firms compete in quantities, and decide upon these sequentially. \n",
    "\n",
    "- One firm is assumed to be the leader, and the other is the follower. \n",
    "\n",
    "In the following we will analyse a sitaution with linear demand with $a=101$, $b=0.1$ and cost equal to 1 for all firms under all three situations."
   ]
  },
  {
   "cell_type": "code",
   "execution_count": 1,
   "id": "mighty-windsor",
   "metadata": {},
   "outputs": [],
   "source": [
    "#Import packages\n",
    "from scipy import optimize,arange\n",
    "from numpy import array\n",
    "import numpy as np\n",
    "import matplotlib.pyplot as plt\n",
    "import random\n",
    "import sympy as sm\n",
    "from math import *\n",
    "%matplotlib inline\n",
    "from IPython.display import Markdown, display\n"
   ]
  },
  {
   "cell_type": "markdown",
   "id": "breeding-contest",
   "metadata": {},
   "source": [
    "**Bertand**"
   ]
  },
  {
   "cell_type": "markdown",
   "id": "located-bridges",
   "metadata": {},
   "source": [
    "First we wanna solve the case of Bertand competetion, i.e a sitatuion, where the firms compete in prices. Here we consider two companies who are selling differentiated products. The quantity each firm produces is dependent on the on it's own price $p_1$ and the competitor's price $p_2$.\n",
    "$$x_1 = a - p_1 +bp_2$$\n",
    "$$x_2 = a - p_2 + bp_1$$\n",
    "The individual companies profits can be defined as: \n",
    "$$\\pi_1 = (p_1 - c_1)(a - p_1 +bp_2)$$\n",
    "$$\\pi_2 = (p_2 - c_2)(a - p_2 + bp_1).$$\n",
    "For the following parts we assume that both companies have identical marginal costs and thus $$c_1 = c_2 = c.$$"
   ]
  },
  {
   "cell_type": "code",
   "execution_count": 2,
   "id": "earlier-particle",
   "metadata": {},
   "outputs": [],
   "source": [
    "#Variables\n",
    "a = sm.symbols('a')\n",
    "p1 = sm.symbols('p1') \n",
    "p2 = sm.symbols('p2') \n",
    "c = sm.symbols('c') \n",
    "b = sm.symbols('b') \n",
    "alpha=sm.symbols('alpha')\n",
    "\n",
    "#Frist we define the profit funtioncs for the two firms:  \n",
    "pi1 = (p1-c)*(a-p1+b*p2)\n",
    "pi2 = (p2-c)*(a-p2+b*p1)"
   ]
  },
  {
   "cell_type": "markdown",
   "id": "tough-stock",
   "metadata": {},
   "source": [
    "In order to get the equilibrium price we first have to determine the first order conditions (FOC) by maximizing the profit functions of the individual firms with repsect to the prices they offer. \n",
    "$$\\frac{\\partial\\pi_1}{\\partial p_1}= a - 2p_1 + bp_2 + c=0$$\n",
    "$$\\frac{\\partial\\pi_2}{\\partial p_2}= a - 2p_2 + bp_1 + c=0$$\n",
    "\n",
    "By solving the first order conditions for the respective prices we arrive at the reaction functions. \n",
    "$$p_1^{*} = \\frac{a+ b*p_2 + c}{2}$$\n",
    "$$p_2^{*} = \\frac{a+ b*p_1 + c}{2}$$\n",
    "\n",
    "By setting them equal, since it is the best repsonse for both firms to set their price equal to the competitior's price, we arrive at our equilibrium price: \n",
    "$$p^{*} = \\frac{-(a+c)}{b-2}$$"
   ]
  },
  {
   "cell_type": "code",
   "execution_count": 3,
   "id": "amazing-malpractice",
   "metadata": {},
   "outputs": [
    {
     "name": "stdout",
     "output_type": "stream",
     "text": [
      "-(a + c)/(b - 2)\n"
     ]
    }
   ],
   "source": [
    "#The first order conditions are then: \n",
    "FOC1 = sm.diff(pi1, p1)\n",
    "FOC2 = sm.diff(pi2, p2)\n",
    "\n",
    "\n",
    "#Reactionsfuncions \n",
    "RF1 = sm.solve(FOC1, p1)[0]\n",
    "RF2 = sm.solve(FOC2, p2)[0]\n",
    "\n",
    "#Equilibrium price\n",
    "RF12 = sm.solve(FOC2,p1)[0] \n",
    "EP1 = sm.solve(RF1-RF12,p2)[0]\n",
    "print(EP1) #Equilibrium price both companies will charge \n",
    "RF21 = sm.solve(FOC1,p2)[0] \n",
    "EP2 = sm.solve(RF2-RF21,p1)[0]"
   ]
  },
  {
   "cell_type": "markdown",
   "id": "otherwise-logging",
   "metadata": {},
   "source": [
    "Using the lambdify feature from the sympy package we can now make a function to solve the bertrand competition for chosen values. In this case we set $a$ equal to 101, $b$ equal to 0.1 and $c$ equal to 1 (the numbers were decided on arbitrarily). This yields an equilibrium price of 53. \n"
   ]
  },
  {
   "cell_type": "code",
   "execution_count": 4,
   "id": "straight-revision",
   "metadata": {},
   "outputs": [
    {
     "data": {
      "text/markdown": [
       "The equilibrium price is $p$ = 54, the equilibrium quantity is $q$ = 53 and the profits for both firms are $π$ = 2776"
      ],
      "text/plain": [
       "<IPython.core.display.Markdown object>"
      ]
     },
     "metadata": {},
     "output_type": "display_data"
    }
   ],
   "source": [
    "#make it a function to solve it \n",
    "bertrand = sm.lambdify((a,b,c), EP1)\n",
    "price1=bertrand(101,0.1,1)\n",
    "quantity1 = 101 - 0.9*bertrand(101,0.1,1)\n",
    "profit1 = (bertrand(101,0.1,1)-1)*(101 - 0.9*bertrand(101,0.1,1))\n",
    "\n",
    "#Defining a way to print the solution in a fancy way\n",
    "def fancy(string):\n",
    "    display(Markdown(string))\n",
    "\n",
    "\n",
    "fancy(f'The equilibrium price is $p$ = {price1:.0f}, the equilibrium quantity is $q$ = {quantity1:.0f} and the profits for both firms are $π$ = {profit1:.0f}') "
   ]
  },
  {
   "cell_type": "markdown",
   "id": "utility-provider",
   "metadata": {},
   "source": [
    "**Stackelberg**"
   ]
  },
  {
   "cell_type": "markdown",
   "id": "local-construction",
   "metadata": {},
   "source": [
    "We now turn to the Stackelberg, i.e a sequantiacal competion in quantities, thus one company is the leader and the other is a follower. "
   ]
  },
  {
   "cell_type": "code",
   "execution_count": 5,
   "id": "psychological-article",
   "metadata": {},
   "outputs": [],
   "source": [
    "#values \n",
    "p = sm.symbols('p')\n",
    "x1 = sm.symbols('x1')\n",
    "x2 = sm.symbols('x2')\n",
    "\n",
    "#Giving values to our parameters\n",
    "a = 101\n",
    "c = 1\n",
    "b = 0.1"
   ]
  },
  {
   "cell_type": "markdown",
   "id": "million-husband",
   "metadata": {},
   "source": [
    "Each firm chooses a quantitiy $x_{1}, x_{2}\\geq0$ where the cost of production is $c_{1}=c_{2}$. Each firm set the price $p = a-b\\left(x_{1}+x_{2}\\right)$. The profit function for firm $i$ is then written as $\\pi_{i}\\left(x_{i}\\right)=p\\left(x_{i}\\right)-c_{i}x_{i}$ Assume firm 1 is the leader and 2 is the follower. The game is solved by backward induction.\n",
    "  \n",
    "We will first define the inverse demand function $p$:"
   ]
  },
  {
   "cell_type": "code",
   "execution_count": 6,
   "id": "linear-tribune",
   "metadata": {},
   "outputs": [],
   "source": [
    "#Defining price\n",
    "p = a - b*(x1+x2)  "
   ]
  },
  {
   "cell_type": "markdown",
   "id": "featured-narrow",
   "metadata": {},
   "source": [
    "Then, we set up the profit function for firm 1 and firm 2:"
   ]
  },
  {
   "cell_type": "code",
   "execution_count": 7,
   "id": "coated-fever",
   "metadata": {},
   "outputs": [],
   "source": [
    "#Profit function of firm 1\n",
    "profit_1 = p*x1 - c*x1\n",
    "profit_2 = p*x2 - c*x2"
   ]
  },
  {
   "cell_type": "markdown",
   "id": "opened-alfred",
   "metadata": {},
   "source": [
    "We will say that firm 1 decides first on its output. Firm 2 observes the decision of firm 1 and decides how to reacht. We can solve the problem backwards and find optimal output of firm 2 for each possible output level of firm 1.  \n",
    "It means that we maximize the profit of firm 2 by differentiating it by $x_2$."
   ]
  },
  {
   "cell_type": "code",
   "execution_count": 8,
   "id": "affiliated-knight",
   "metadata": {},
   "outputs": [
    {
     "data": {
      "text/latex": [
       "$\\displaystyle - 0.1 x_{1} - 0.2 x_{2} + 100$"
      ],
      "text/plain": [
       "-0.1*x1 - 0.2*x2 + 100"
      ]
     },
     "execution_count": 8,
     "metadata": {},
     "output_type": "execute_result"
    }
   ],
   "source": [
    "#Differentiating the profit of firm 2 by q2\n",
    "\n",
    "diff_profit_2 = sm.diff(profit_2, x2)\n",
    "diff_profit_2"
   ]
  },
  {
   "cell_type": "code",
   "execution_count": 9,
   "id": "polish-cleaning",
   "metadata": {},
   "outputs": [
    {
     "data": {
      "text/latex": [
       "$\\displaystyle 500.0 - 0.5 x_{1}$"
      ],
      "text/plain": [
       "500.0 - 0.5*x1"
      ]
     },
     "execution_count": 9,
     "metadata": {},
     "output_type": "execute_result"
    }
   ],
   "source": [
    "#Finding optimal q2 by isolating q2 from the differentiation\n",
    "opt_2 = sm.solve(diff_profit_2, x2)\n",
    "opt_2[0]"
   ]
  },
  {
   "cell_type": "markdown",
   "id": "nearby-bulletin",
   "metadata": {},
   "source": [
    "Then, we can substitute $q_2$ into the profit function of firm 1. Thanks to that, we have a single variable function."
   ]
  },
  {
   "cell_type": "code",
   "execution_count": 10,
   "id": "impossible-destination",
   "metadata": {},
   "outputs": [
    {
     "data": {
      "text/latex": [
       "$\\displaystyle x_{1} \\left(51.0 - 0.05 x_{1}\\right) - x_{1}$"
      ],
      "text/plain": [
       "x1*(51.0 - 0.05*x1) - x1"
      ]
     },
     "execution_count": 10,
     "metadata": {},
     "output_type": "execute_result"
    }
   ],
   "source": [
    "#Substituting q2 into the profit function of firm 1\n",
    "profit_1_subs = profit_1.subs(x2,opt_2[0])\n",
    "profit_1_subs"
   ]
  },
  {
   "cell_type": "markdown",
   "id": "broken-meaning",
   "metadata": {},
   "source": [
    "Once again, we need to differentiate the profit of firm 1 by $q_1$ to find the optimal value of $q_1$."
   ]
  },
  {
   "cell_type": "code",
   "execution_count": 11,
   "id": "annoying-alfred",
   "metadata": {},
   "outputs": [
    {
     "data": {
      "text/latex": [
       "$\\displaystyle 50.0 - 0.1 x_{1}$"
      ],
      "text/plain": [
       "50.0 - 0.1*x1"
      ]
     },
     "execution_count": 11,
     "metadata": {},
     "output_type": "execute_result"
    }
   ],
   "source": [
    "#Differentiating the profit of firm 1 by q1\n",
    "\n",
    "diff_profit_1 = sm.diff(profit_1_subs, x1)\n",
    "diff_profit_1"
   ]
  },
  {
   "cell_type": "code",
   "execution_count": 12,
   "id": "south-optimization",
   "metadata": {},
   "outputs": [
    {
     "data": {
      "text/latex": [
       "$\\displaystyle 500.0$"
      ],
      "text/plain": [
       "500.000000000000"
      ]
     },
     "execution_count": 12,
     "metadata": {},
     "output_type": "execute_result"
    }
   ],
   "source": [
    "#Finding the optimal value of q1\n",
    "\n",
    "opt_1 = sm.solve(diff_profit_1, x1)\n",
    "opt_1[0]"
   ]
  },
  {
   "cell_type": "markdown",
   "id": "north-bracelet",
   "metadata": {},
   "source": [
    "Now, we can find the optimal value of $q_2$."
   ]
  },
  {
   "cell_type": "code",
   "execution_count": 13,
   "id": "metropolitan-china",
   "metadata": {},
   "outputs": [
    {
     "data": {
      "text/latex": [
       "$\\displaystyle 250.0$"
      ],
      "text/plain": [
       "250.000000000000"
      ]
     },
     "execution_count": 13,
     "metadata": {},
     "output_type": "execute_result"
    }
   ],
   "source": [
    "opt_2_subs = opt_2[0].subs(x1,opt_1[0])\n",
    "opt_2_subs"
   ]
  },
  {
   "cell_type": "markdown",
   "id": "widespread-watts",
   "metadata": {},
   "source": [
    "We can also find the equilibrium market price, profit of firm 1 and profit of firm 2:"
   ]
  },
  {
   "cell_type": "code",
   "execution_count": 14,
   "id": "boolean-novel",
   "metadata": {},
   "outputs": [
    {
     "data": {
      "text/markdown": [
       "The equilibrium price is $p$ = 26, and the profits for both firms are $π_1$ = 12500 and $π_2$ = 6250"
      ],
      "text/plain": [
       "<IPython.core.display.Markdown object>"
      ]
     },
     "metadata": {},
     "output_type": "display_data"
    }
   ],
   "source": [
    "#Finding equilibrium market price\n",
    "p = a - b*(opt_1[0] + opt_2_subs)\n",
    "\n",
    "#Finding profit of firm 1\n",
    "profit_1 = p*opt_1[0] - c*opt_1[0]\n",
    "\n",
    "#Finding profit of firm 2\n",
    "profit_2 = p*opt_2_subs - c*opt_2_subs\n",
    "\n",
    "\n",
    "fancy(f'The equilibrium price is $p$ = {int(p)}, and the profits for both firms are $π_1$ = {int(profit_1)} and $π_2$ = {int(profit_2)}')"
   ]
  },
  {
   "cell_type": "markdown",
   "id": "awful-result",
   "metadata": {},
   "source": [
    "We now want to make a figure that show how the beste responses relate."
   ]
  },
  {
   "cell_type": "code",
   "execution_count": null,
   "id": "3f3a49e8-917f-4c0d-83f8-bb3e73ba21da",
   "metadata": {},
   "outputs": [],
   "source": []
  },
  {
   "cell_type": "code",
   "execution_count": 15,
   "id": "prompt-brick",
   "metadata": {},
   "outputs": [
    {
     "data": {
      "image/png": "[encoded data removed]",
      "text/plain": [
       "<Figure size 1080x720 with 1 Axes>"
      ]
     },
     "metadata": {
      "needs_background": "light"
     },
     "output_type": "display_data"
    }
   ],
   "source": [
    "#Defining the x-axis\n",
    "qu_1 = np.linspace(0, 1000, 1000)\n",
    "\n",
    "#Defining the lambda functions for our best responses functions\n",
    "BR2 = lambda qu_1 : 500 - qu_1/2\n",
    "BR1 = lambda qu_1 : 500 - qu_1/2\n",
    "\n",
    "#Plotting the figure\n",
    "plt.figure(figsize=(15,10))\n",
    "plt.plot(qu_1, BR2(qu_1), label = \"Best Response of Firm 1\")\n",
    "plt.plot(BR1(qu_1),qu_1 , label = \"Best Response of Firm 2\")\n",
    "plt.grid(True)         \n",
    "plt.xlabel('$q1$')\n",
    "plt.ylabel('$q2$')\n",
    "plt.title('Best response functions')\n",
    "plt.legend()\n",
    "\n",
    "#To include a quantity of 0 for 1 firm, we set the axis like this\n",
    "plt.xlim(0,1000) # sets the x-axis\n",
    "plt.ylim(0,600) # Sets the y-axis\n",
    "\n",
    "\n",
    "plt.show()"
   ]
  },
  {
   "cell_type": "markdown",
   "id": "manufactured-constitution",
   "metadata": {},
   "source": [
    "This tells that when firm chooses a quantity of 500 in the first stage, firm 2 will choose a quantity half the size of firm 1 in second stage. In a case where firm 1 chooses to produce 1000 units, firm 2 will then produce 0. "
   ]
  },
  {
   "cell_type": "markdown",
   "id": "involved-spanking",
   "metadata": {},
   "source": [
    "**Cournot**"
   ]
  },
  {
   "cell_type": "markdown",
   "id": "editorial-costume",
   "metadata": {},
   "source": [
    "For the Cournot case we are gonna set up some functions to solve the model in order to make an extention with n firms later on."
   ]
  },
  {
   "cell_type": "markdown",
   "id": "manufactured-expression",
   "metadata": {},
   "source": [
    "Consider the linear invese demand curve $p_{i}\\left(x_{i},x_{j}\\right)=a-x_{i}-bx_{j}$ where $b\\in\\left(0,1\\right)$ is the elasticity of substitution between the goods, i.e. indicates that the goods are heterogenous for $0<b<1$. \n",
    "\n",
    "We write the inverse demand:"
   ]
  },
  {
   "cell_type": "code",
   "execution_count": 16,
   "id": "seeing-operations",
   "metadata": {},
   "outputs": [],
   "source": [
    "def price(x1,x2,a,b):\n",
    "    \"\"\"A function that computes prices \n",
    "    args:\n",
    "    x1 : quantity for firm 1 \n",
    "    x2 : quantity for firm 2 \n",
    "    a :total demand \n",
    "    b : elasticity of substitution\n",
    "    \"\"\"\n",
    "    return a-b*(x1+x2)\n"
   ]
  },
  {
   "cell_type": "markdown",
   "id": "unknown-refrigerator",
   "metadata": {},
   "source": [
    "Firms have constant marginal costs, where total costs are given by $c\\left(x_{i,j}\\right)=cx_{i,j}$"
   ]
  },
  {
   "cell_type": "code",
   "execution_count": 17,
   "id": "advanced-signature",
   "metadata": {},
   "outputs": [],
   "source": [
    "def cost(x,c):\n",
    "    \"\"\"A function that computes total cost and sets it equal to 0 if nothing is produced\n",
    "    args:\n",
    "    c = cost for firm i\n",
    "    x = quantity for firm i\n",
    "    \"\"\"\n",
    "    if x == 0:\n",
    "     cost = 0\n",
    "    else:\n",
    "     cost = c*x\n",
    "    return cost"
   ]
  },
  {
   "cell_type": "markdown",
   "id": "precise-conjunction",
   "metadata": {},
   "source": [
    "Firms maximize profits given the choice of the other firm such that $$\\pi\\left(x_{i},x_{j}\\right)=p_{i}\\left(x_{i},x_{j}\\right)x_{i}-c\\left(x_{i}\\right)$$"
   ]
  },
  {
   "cell_type": "code",
   "execution_count": 18,
   "id": "overall-proportion",
   "metadata": {},
   "outputs": [],
   "source": [
    "def profit(x1,x2,c1,a,b):\n",
    "    \"\"\"A function that computes profit for firm 1\n",
    "    args:\n",
    "    x1 : quantity for firm 1 \n",
    "    x2 : quantity for firm 2 \n",
    "    c1 : cost for firm 1 \n",
    "    a : total demand \n",
    "    b : elasticity of substitution\n",
    "    \"\"\"\n",
    "    return price(x1,x2,a,b)*x1-cost(x1,c1)"
   ]
  },
  {
   "cell_type": "markdown",
   "id": "tribal-thread",
   "metadata": {},
   "source": [
    "In a Cournot setting, firm $i$ chooses $x_{i}$ taking $x_{j}$ as given. Thus, the Nash equilibrium for $x_{i}^{*},x_{j}^{*}$ holds for $$x_{i}^{*}=\\text{arg}\\underset{x_{i}}{\\text{ max }}\\pi\\left(x_{i},x_{j}^{*}\\right)\\;\\;\\;\\;\\;\\;\\text{for each }i\\neq j$$ Thus, we are able to find firm $i$ optimal production level given the choice of $x_{j}$ by creating the function 'reaction'. Hence, taking the first order condition to find the Nash equilibrium for $x_{i}^{*},x_{j}^{*}$ yields $$\\frac{\\partial\\pi\\left(x_{i},x_{j}\\right)}{\\partial x_{i,j}}=0$$\n",
    "\n",
    "In this case, we also want to calculate the profit maximizing outcome, so we use the function 'brute'. This allows one to look for the global maximum of $\\pi$. Likewise, we keep in mind that 'scipy optimize' is bound to minimize problems, and since we want to maximize the profit function, we then minimize $-\\pi\\left(x_{i},x_{j}\\right)$. "
   ]
  },
  {
   "cell_type": "code",
   "execution_count": 19,
   "id": "compatible-means",
   "metadata": {},
   "outputs": [],
   "source": [
    "def reaction(x2,c1,b,a):\n",
    "    \"\"\"A function that computes the optimal quantity\n",
    "    args\n",
    "    x2 : quantity for firm 2\n",
    "    c1 : cost for firm 1\n",
    "    b : elasticity of substitution\n",
    "    a : total demand \n",
    "    \"\"\"\n",
    "    \n",
    "    #bounds = ((0,a/b-x2),)\n",
    "    x1 = optimize.minimize(lambda x: -profit(x,x2,c1,a,b),x0 = [x2],method='L-BFGS-B')\n",
    "    #print(x1.message)\n",
    "                                                                     \n",
    "    return x1.x[0]"
   ]
  },
  {
   "cell_type": "code",
   "execution_count": 20,
   "id": "defcafba-7f82-44ce-856a-8aee469aab97",
   "metadata": {},
   "outputs": [],
   "source": [
    "def reaction(x2,c1,b,a):\n",
    "    \"\"\"A function that computes the optimal quantity\n",
    "    args\n",
    "    x2 : quantity for firm 2\n",
    "    c1 : cost for firm 1\n",
    "    b : elasticity of substitution\n",
    "    a : total demand \n",
    "    \"\"\"\n",
    "    x1 = optimize.brute(lambda x: -profit(x,x2,c1,a,b), ((0,1,),)) \n",
    "                                                                 \n",
    "    return x1[0]"
   ]
  },
  {
   "cell_type": "code",
   "execution_count": 21,
   "id": "2a08d92d-faed-4618-b1d5-e18c50d2bc6d",
   "metadata": {},
   "outputs": [
    {
     "data": {
      "text/plain": [
       "333.31425781250056"
      ]
     },
     "execution_count": 21,
     "metadata": {},
     "output_type": "execute_result"
    }
   ],
   "source": [
    "reaction(333.3715739255503,1,0.1,101)"
   ]
  },
  {
   "cell_type": "markdown",
   "id": "configured-approval",
   "metadata": {},
   "source": [
    "Now, we must find an equilibrium for price and quantity given their best response. For this reason, consider the vector function $f\\left(x_{i},x_{j}\\right)$ which takes firm $i$'s best response $r_{i}\\left(x_{j}\\right)$ to $j$'s production level $x_{j}$ into consideration. We can write this as $$f\\left(x_{i},x_{j}\\right)=\\left[\\begin{array}{c}\n",
    "r_{i}\\left(x_{j}^{*}\\right)\\\\\n",
    "r_{j}\\left(x_{i}^{*}\\right)\n",
    "\\end{array}\\right]$$ \n",
    "\n",
    "We are then looking for the quantities produced is equal to best response given what the other firm produce, i.e the point where: \n",
    "\n",
    "$$\\left(\\begin{array}{c}\n",
    "x_{1}^{*}\\\\\n",
    "x_{2}^{*}\n",
    "\\end{array}\\right)=\\left(\\begin{array}{c}\n",
    "r_{1}(x_{2}^{*})\\\\\n",
    "r_{2}(x_{1}^{*})\n",
    "\\end{array}\\right)$$\n",
    "\n",
    "Thus, we create a function 'vec_reaction' given by the difference between an array of the quantaites subtracted by the best response functions and pass $b,a, c_{i},c_{j}$ as a vector of parameters. "
   ]
  },
  {
   "cell_type": "code",
   "execution_count": 22,
   "id": "collaborative-queue",
   "metadata": {},
   "outputs": [],
   "source": [
    "def vec_reaction(x,param): \n",
    "    \"\"\"A function that computes the difference between the quantities and the beste response functions\n",
    "    args\n",
    "    x : quantaties\n",
    "    param : list of parameters\"\"\"\n",
    "    return array(x)-array([reaction(x[1],param[2],param[0],param[1]),reaction(x[0],param[3],param[0], param[1])])"
   ]
  },
  {
   "cell_type": "markdown",
   "id": "shaped-jaguar",
   "metadata": {},
   "source": [
    "Now, moving on to find the actual Cournot equilibrium, we are able to set the values of each paramter. Using the 'fsolve' from 'scipy.optimize' to find $x$. Also, giving 'fsolve' the inital guess of the quantaites, while passing the paramater vector 'param' as arguments 'args' to 'fsolve', this yields:"
   ]
  },
  {
   "cell_type": "code",
   "execution_count": 23,
   "id": "spare-cliff",
   "metadata": {},
   "outputs": [
    {
     "data": {
      "text/markdown": [
       "The Nash equilibrium quantity for both firms are $x^* =[x_1^*,x_2^*]$ = [333.33330078 333.33330078] where the equilibrium price for both firms are $p^*$ = 34.333339843749854 with a profit of $\\pi^*$= 11111.11219618032"
      ],
      "text/plain": [
       "<IPython.core.display.Markdown object>"
      ]
     },
     "metadata": {},
     "output_type": "display_data"
    }
   ],
   "source": [
    "param = [0.1,101,1,1]\n",
    "x0 = [100,100]\n",
    "\n",
    "EQ = optimize.fsolve(vec_reaction, x0, args = (param))\n",
    "EQ\n",
    "\n",
    "fancy(f'The Nash equilibrium quantity for both firms are $x^* =[x_1^*,x_2^*]$ = {EQ} where the equilibrium price for both firms are $p^*$ = {price(EQ[0],EQ[1],101,0.1)} with a profit of $\\pi^*$= {profit(EQ[0],EQ[1],1,101,0.1)}')\n"
   ]
  },
  {
   "cell_type": "markdown",
   "id": "medical-variety",
   "metadata": {},
   "source": [
    "We now want to show, how the quantity produced changes, when the cost of firm 1 changes."
   ]
  },
  {
   "cell_type": "code",
   "execution_count": 24,
   "id": "artistic-tokyo",
   "metadata": {},
   "outputs": [
    {
     "data": {
      "image/png": "[encoded data removed]",
      "text/plain": [
       "<Figure size 576x396 with 1 Axes>"
      ]
     },
     "metadata": {},
     "output_type": "display_data"
    }
   ],
   "source": [
    "range_c = np.linspace(1,0,20)\n",
    "range_x = [optimize.fsolve(vec_reaction, x0, args = ([0.1,101, c, 1])) for c in range_c]\n",
    "\n",
    "plt.style.use('seaborn')\n",
    "plt.clf()\n",
    "plt.plot(range_c,array(range_x)[:,0], label = '$x_1$')\n",
    "plt.plot(range_c,array(range_x)[:,1], label = '$x_2$')\n",
    "plt.xlabel('$c_1$')\n",
    "plt.ylabel('$x$')\n",
    "plt.legend()\n",
    "plt.show()"
   ]
  },
  {
   "cell_type": "markdown",
   "id": "cutting-basics",
   "metadata": {},
   "source": [
    "In the figure, we see, that as the cost of firm 1 goes up, the quantity produced by firm 1 falls, while the quantity produced by firm 2 goes up."
   ]
  },
  {
   "cell_type": "markdown",
   "id": "welsh-houston",
   "metadata": {},
   "source": [
    "**Compare all three cases**"
   ]
  },
  {
   "cell_type": "markdown",
   "id": "equal-headline",
   "metadata": {},
   "source": [
    "We have now tried to solve a situation with two firms competing with three different models, giving them the same parameter values. This leads to the following results:"
   ]
  },
  {
   "cell_type": "code",
   "execution_count": 25,
   "id": "closing-edwards",
   "metadata": {},
   "outputs": [
    {
     "data": {
      "text/markdown": [
       "For Bertrand: The equilibrium price is $p$ = 53, the equilibrium quantity is $q$ = 52 and the profits for both firms are $π$ = 2775"
      ],
      "text/plain": [
       "<IPython.core.display.Markdown object>"
      ]
     },
     "metadata": {},
     "output_type": "display_data"
    },
    {
     "data": {
      "text/markdown": [
       "For Stackelberg: the equilibrium price is $p$ = 26, and the profits for both firms are $π_1$ = 12500 and $π_2$ = 6250"
      ],
      "text/plain": [
       "<IPython.core.display.Markdown object>"
      ]
     },
     "metadata": {},
     "output_type": "display_data"
    },
    {
     "data": {
      "text/markdown": [
       "For Cournot: the equilibrium quantity for both firms are $x^* =[x_1^*,x_2^*]$ = [333.33330078 333.33330078] where the equilibrium price for both firms are $p^*$ = 34.333339843749854 with a profit of $\\pi^*$= 11111.11219618032"
      ],
      "text/plain": [
       "<IPython.core.display.Markdown object>"
      ]
     },
     "metadata": {},
     "output_type": "display_data"
    }
   ],
   "source": [
    "fancy(f'For Bertrand: The equilibrium price is $p$ = {int(price1)}, the equilibrium quantity is $q$ = {int(quantity1)} and the profits for both firms are $π$ = {int(profit1)}') \n",
    "fancy(f'For Stackelberg: the equilibrium price is $p$ = {int(p)}, and the profits for both firms are $π_1$ = {int(profit_1)} and $π_2$ = {int(profit_2)}')\n",
    "fancy(f'For Cournot: the equilibrium quantity for both firms are $x^* =[x_1^*,x_2^*]$ = {EQ} where the equilibrium price for both firms are $p^*$ = {price(EQ[0],EQ[1],101,0.1)} with a profit of $\\pi^*$= {profit(EQ[0],EQ[1],1,101,0.1)}')\n"
   ]
  },
  {
   "cell_type": "markdown",
   "id": "favorite-stamp",
   "metadata": {},
   "source": [
    "**Cournot with n> 2 firms**"
   ]
  },
  {
   "cell_type": "markdown",
   "id": "sublime-geometry",
   "metadata": {},
   "source": [
    "In order to do an extention to one of the models, we now want to investigate the case of N > 2 firms. First we set up the situation theoretically. In the following theoretical set-up we will follow the set-up in this note, adapting it to our situation: http://people.exeter.ac.uk/dgbalken/micro07/CournotHandout.pdf (we add the posibility of different cost for each firms)\n",
    "\n",
    "Following the notation from ealier we now add: \n",
    "\n",
    "- Firm $i$'s output: $x_i$\n",
    "\n",
    "- Total output in in industry: $X=x_1+x_2+...+x_n$\n",
    "\n",
    "- The opponent's output: $x_{-i} = X-x_i$\n",
    "\n",
    "\n",
    "\n",
    "Each firm will then max profit given the expectation of $x_{-i}$: \n",
    "\n",
    "$$\\Pi_i(x_{-i},x_i)=(p(x_{-i}+x_i)-c_i)x_i$$\n",
    "\n",
    "as with the n = 2 case we use the invese demand funcktion in a linear case:\n",
    "\n",
    "$$p = a-b(x_{-i}+x_i)=a-bX$$ \n",
    "\n",
    "The FOC of is then:\n",
    "$$\\frac{\\partial \\Pi_i}{\\partial x_i} = \\frac{\\partial p}{\\partial x_i} \\cdot x_i + p-c_i = 0$$\n",
    "\n",
    "\n",
    "where $\\frac{\\partial p}{\\partial x_i} = -b$ giving us\n",
    "\n",
    "$$\\frac{\\partial\\Pi_i}{\\partial x_i} : -bx_i + p-c_i = 0$$\n",
    "\n",
    "inserting the inverse demand function:\n",
    "\n",
    "$$\\frac{\\partial\\Pi_i}{\\partial x_i} : -bx_i + (a-b(x_{-i}+x_{i}))-c_i = 0$$\n",
    "\n",
    "solving for $x_i$ to get the reaction function for firm $i$ given its expectation for the amount the rest of the firms produce:\n",
    "\n",
    "$$x_i(x_{-i}) = \\frac{a-c}{2b}-\\frac{1}{2}x_{-i}$$\n",
    "\n",
    "which is the case for all firms $i=1,..,n$. We have $X=x_i+x_{-i}$ so the FOC found earlier can be rewritten to:\n",
    "$$ -bx_i + (a-bX-c_i) = 0$$\n",
    "\n",
    "which for the n firms:\n",
    "$$-bX + n(a-bX)-n\\bar c = 0$$\n",
    "\n",
    "where we use the average cost level: $\\bar c = \\frac{c_1+c_2+...+c_n}{n}$\n",
    "\n",
    "we can now rewrite this and get the quantity produced and the price in the market: \n",
    "\n",
    "$$bX + n(bX) = n(A-\\bar c)$$\n",
    "\n",
    "$$(n+1)bX  = n(A-\\bar c)$$\n",
    "\n",
    "Quantity is then:\n",
    "\n",
    "$$X = \\frac{n}{n+1} \\frac{a-\\bar c}{b}$$\n",
    "\n",
    "Price is:\n",
    "$$p = a-bX = a-b[\\frac{n}{n+1} \\frac{a-\\bar c}{b}] = \\frac{1}{n+1}a + \\frac{n}{n+1}\\bar c$$\n",
    "\n",
    "\n",
    "Using the found functions we can now try to set a program that is able to solve cases with N firms. \n"
   ]
  },
  {
   "cell_type": "code",
   "execution_count": 26,
   "id": "dress-battery",
   "metadata": {},
   "outputs": [],
   "source": [
    "def Round(a): \n",
    "    \"\"\"A function that prints floats rounded as strings\n",
    "    args:\n",
    "    a : a float\"\"\"\n",
    "    return str(\"{:.0f}\".format(a))"
   ]
  },
  {
   "cell_type": "markdown",
   "id": "collective-power",
   "metadata": {},
   "source": [
    "First we define a function, that calculates the prices $p = \\frac{1}{n+1}a + \\frac{n}{n+1}\\bar c $ rewriting using the definition of the average cost level gives: $p= \\frac{1}{n+1}a + \\frac{c_1+c_2+...+c_n}{n+1}$ which we use in our function."
   ]
  },
  {
   "cell_type": "code",
   "execution_count": 27,
   "id": "framed-digit",
   "metadata": {},
   "outputs": [],
   "source": [
    "def price_eq(a, n, c): #Returns the equilibirum price given n firms \n",
    "    \"\"\"A function that computes price\n",
    "    args:\n",
    "    a : total demand \n",
    "    n : number of firms \n",
    "    c : cost of firm i \n",
    "    \"\"\"\n",
    "        \n",
    "    price = max((a+sum(c))/(1+n), 0)\n",
    "    return price"
   ]
  },
  {
   "cell_type": "markdown",
   "id": "tutorial-argentina",
   "metadata": {},
   "source": [
    "We now want to define a function that returns the quantity produced for firm $i$.\n",
    "this is given by:\n",
    "$$x_i = \\frac{a-bX-c_i}{b}=\\frac{a-c_i}{b}-\\frac{n}{n+1}\\frac{a-\\bar c}{b} = \\frac{1}{n+1}\\frac{a}{b}+ \\frac{n(\\bar c -c_i)-c_i}{(n+1)b} = \\frac{1}{n+1}\\frac{1}{b}[a- n(\\bar c -c_i)-c_i]$$\n",
    "\n",
    "use that $\\bar c = \\frac{c_1+c_2+...+c_n}{n}$\n",
    "$$x_i = \\frac{1}{n+1}\\frac{1}{b}[a+ nc_i+(c_1+c_2+...+c_n-c_i)]$$\n",
    "which we now use to define a function, that returns the quantity: "
   ]
  },
  {
   "cell_type": "code",
   "execution_count": 28,
   "id": "daily-consequence",
   "metadata": {},
   "outputs": [],
   "source": [
    "def xi_eq(a, b, n, c, i): #Returns equilibrium quantity for firm i\n",
    "    \"\"\"A function that computes quantity for firm i\n",
    "    args:\n",
    "    a (float):total demand \n",
    "    b (float):elasticity of substitution between the good\n",
    "    n (float):number of firms \n",
    "    c (float): cost of firm i \n",
    "    i (integer): the number of the firm\n",
    "    Returns a float\"\"\"\n",
    "    \n",
    "    #x_i = (1/b)*((a+n*c[i]+(sum(c)-c[i]))/(1+n))\n",
    "    #if x_i < 1: \n",
    "     #   x_i = 0\n",
    "    x_i = (1/b)*((a+(n-1)*c[i]-sum(c))/(1+n))   \n",
    "    return x_i"
   ]
  },
  {
   "cell_type": "markdown",
   "id": "colored-pierce",
   "metadata": {},
   "source": [
    "We can then define a function, that returns the quantity for the entire number of firms "
   ]
  },
  {
   "cell_type": "code",
   "execution_count": 29,
   "id": "sporting-weapon",
   "metadata": {},
   "outputs": [],
   "source": [
    "def X_eq(a, b, n, c): \n",
    "    \"\"\"A function that computes quantity for the total amount of firms \n",
    "    args:\n",
    "    a : total demand \n",
    "    b : elasticity of substitution between the good\n",
    "    n : number of firms \n",
    "    c : cost of firm i \n",
    "    \"\"\"\n",
    "    \n",
    "    X = []\n",
    "    for i in range(0, n, 1):\n",
    "        X.append(xi_eq(a, b, n, c, i))\n",
    "        \n",
    "    return sum(X)"
   ]
  },
  {
   "cell_type": "code",
   "execution_count": null,
   "id": "c2bc67b6-06b2-4fd0-a415-af9bf896e416",
   "metadata": {},
   "outputs": [],
   "source": []
  },
  {
   "cell_type": "code",
   "execution_count": 30,
   "id": "2633a774-b6ec-4817-beb4-efa248e50e6d",
   "metadata": {},
   "outputs": [
    {
     "data": {
      "text/plain": [
       "890.909090909091"
      ]
     },
     "execution_count": 30,
     "metadata": {},
     "output_type": "execute_result"
    }
   ],
   "source": [
    "n= 10\n",
    "c_vec = [3 for i in range(n)]\n",
    "X_eq(a,b,n,c_vec)"
   ]
  },
  {
   "cell_type": "code",
   "execution_count": 31,
   "id": "326dc37f-9a08-4d02-a78d-8f42874e9ca3",
   "metadata": {},
   "outputs": [
    {
     "data": {
      "text/plain": [
       "10"
      ]
     },
     "execution_count": 31,
     "metadata": {},
     "output_type": "execute_result"
    }
   ],
   "source": [
    "len(c_vec)"
   ]
  },
  {
   "cell_type": "code",
   "execution_count": 32,
   "id": "6449c930-a47e-444f-9f6a-56d2f5aa3871",
   "metadata": {},
   "outputs": [
    {
     "data": {
      "text/plain": [
       "989.1567070866106"
      ]
     },
     "execution_count": 32,
     "metadata": {},
     "output_type": "execute_result"
    }
   ],
   "source": [
    "n= 1000\n",
    "c_vec = [random.uniform(1,3) for i in range(n)]\n",
    "X_eq(a,b,n,c_vec)"
   ]
  },
  {
   "cell_type": "code",
   "execution_count": 33,
   "id": "cec66484-0ab1-4dc6-8dd7-183d106625d4",
   "metadata": {},
   "outputs": [
    {
     "data": {
      "text/plain": [
       "989.1567070866333"
      ]
     },
     "execution_count": 33,
     "metadata": {},
     "output_type": "execute_result"
    }
   ],
   "source": [
    "np.sum([a/b/(n+1)+(n*(np.mean(c_vec)-c)-c)/((n+1)*b) for c in c_vec])"
   ]
  },
  {
   "cell_type": "code",
   "execution_count": 34,
   "id": "d21058fc-7757-478b-8b7e-1fefd43341f0",
   "metadata": {},
   "outputs": [
    {
     "data": {
      "text/plain": [
       "989.1567070866319"
      ]
     },
     "execution_count": 34,
     "metadata": {},
     "output_type": "execute_result"
    }
   ],
   "source": [
    "n/(n+1) * (a-np.mean(c_vec))/b"
   ]
  },
  {
   "cell_type": "markdown",
   "id": "official-grass",
   "metadata": {},
   "source": [
    "Based on the assumtion that $$c_i = \\bar c = c $$ the profit for firm $i$ can be found by:\n",
    "$$\\Pi_{i}=(p-c)x_{i}=\\left(\\frac{a+nc}{n+1}-c\\right)\\frac{1}{n+1}\\frac{1}{b}(a-c)$$\n",
    "\n",
    "Without identical marginal costs $$c_i \\neq c $$ $$\\bar c \\neq c$$ the profit for firm $i$ would be: \n",
    "$$\\Pi_{i}=(p-c_i)x_{i}=\\left(\\frac{a+n\\bar c}{n+1}-c_i\\right)\\frac{1}{n+1}\\frac{1}{b}(a+n(\\bar c - c_i)-c_1) = \\frac{1}{(n+1)^2 * b}(a+n(\\bar c - c_1)-c_i)^2$$\n",
    "\n",
    "By maximizing the previously derived profit function we find the equilibrium profit."
   ]
  },
  {
   "cell_type": "code",
   "execution_count": 35,
   "id": "retired-developer",
   "metadata": {},
   "outputs": [],
   "source": [
    "def profit_eq(a, b, n, c, i): \n",
    "    \"\"\"A function that computes profit for firm i and sets profit to zero, if there is no production\n",
    "    args:\n",
    "    a : total demand \n",
    "    b : elasticity of substitution between the good\n",
    "    n : number of firms \n",
    "    c : cost of firm i \n",
    "    i : the number of the firm\n",
    "    \"\"\"\n",
    "    \n",
    "    if xi_eq(a, b, n, c, i) == 0: \n",
    "        profit = 0\n",
    "    else:\n",
    "        profit = max((1/b)*(((a-n*c[i]+(sum(c)-c[i]))/(1+n))**2), 0)\n",
    "        \n",
    "    return profit\n"
   ]
  },
  {
   "cell_type": "markdown",
   "id": "swedish-genetics",
   "metadata": {},
   "source": [
    "We are now ready to define a function, that can solve a general case of cournot competetion with n firms. We choose the number of firms to be drawn randomely using random.randint, while the cost for each firm will be drawn from a uniform destribution using random.uniform. "
   ]
  },
  {
   "cell_type": "code",
   "execution_count": 36,
   "id": "functioning-malpractice",
   "metadata": {},
   "outputs": [],
   "source": [
    "def EQ_N(a, b, N, c_low, c_high): \n",
    "    \"\"\"A function that draws number of firms and compute quantaties, price and average profit\n",
    "    args:\n",
    "    a (float):total demand \n",
    "    b (float):elasticity of substitution between the good\n",
    "    N (float): the maximal number of firms that can be drawn \n",
    "    c_low (float): the lower bound of the interval for the cost \n",
    "    c_high (float): the upper bound of the interval for the cost \n",
    "    Returns a float\"\"\"\n",
    " \n",
    "  \n",
    "    #draw the number of firms:\n",
    "    n = random.randint(2, N) \n",
    "    \n",
    "    #drawing of costs for each firm:\n",
    "    c = []\n",
    "    for i in range(0, n+1, 1):\n",
    "        c_i = random.uniform(c_low, c_high)\n",
    "        c.append(c_i)\n",
    "    \n",
    "    #the price: \n",
    "    price = price_eq(a, n, c) \n",
    "    \n",
    "    #quantities and profits\n",
    "    xi_list = []\n",
    "    profiti_list = []\n",
    "    for i in range(0, n+1, 1):\n",
    "        xi_list.append(xi_eq(a, b, n, c, i))\n",
    "        profiti_list.append(profit_eq(a, b, n, c, i))\n",
    "   \n",
    "    \n",
    "    #the quantity for the entire number of firms\n",
    "    X = X_eq(a, b, n, c)\n",
    "\n",
    "    \n",
    "        \n",
    "    output = print('\\n The number of firms drawn are ' + Round(n)  + \n",
    "                  '\\n The total amount produced is ' + Round(X) +',' + ' while the price is ' + Round(price) + \n",
    "                   '\\n The average profit for each firm is ' + Round(np.array(profiti_list).mean()) + '.'\n",
    "                   '\\n')\n",
    "    \n",
    "    return output\n",
    "    \n",
    "\n",
    "    "
   ]
  },
  {
   "cell_type": "markdown",
   "id": "exclusive-graphic",
   "metadata": {},
   "source": [
    "We are now ready to try a case with parameters as in the n = 2, but with a randomw number of firms drawn:"
   ]
  },
  {
   "cell_type": "code",
   "execution_count": 37,
   "id": "statewide-butterfly",
   "metadata": {},
   "outputs": [
    {
     "name": "stdout",
     "output_type": "stream",
     "text": [
      "\n",
      " The number of firms drawn are 9\n",
      " The total amount produced is 848, while the price is 13\n",
      " The average profit for each firm is 1032.\n",
      "\n"
     ]
    }
   ],
   "source": [
    "a = 101\n",
    "b = 0.1\n",
    "N = 25\n",
    "c_low = 1\n",
    "c_high = 5\n",
    "EQ_N(a, b, N, c_low, c_high)\n"
   ]
  },
  {
   "cell_type": "code",
   "execution_count": 38,
   "id": "bdf9d623-db95-4d07-b292-d2c57b44ae1d",
   "metadata": {},
   "outputs": [],
   "source": [
    "def EQ_N(a, b, n, c_low, c_high): \n",
    "    \"\"\"A function that draws number of firms and compute quantaties, price and average profit\n",
    "    args:\n",
    "    a (float):total demand \n",
    "    b (float):elasticity of substitution between the good\n",
    "    N (float): the maximal number of firms that can be drawn \n",
    "    c_low (float): the lower bound of the interval for the cost \n",
    "    c_high (float): the upper bound of the interval for the cost \n",
    "    Returns a float\"\"\"\n",
    " \n",
    "  \n",
    "    #draw the number of firms:\n",
    "    #n = random.randint(2, N) \n",
    "    \n",
    "    #drawing of costs for each firm:\n",
    "    c = []\n",
    "    for i in range(0, n, 1):\n",
    "        c_i = random.uniform(c_low, c_high)\n",
    "        c.append(c_i)\n",
    "    \n",
    "    #the price: \n",
    "    price = price_eq(a, n, c) \n",
    "    \n",
    "    #quantities and profits\n",
    "    xi_list = []\n",
    "    profiti_list = []\n",
    "    #for i in range(0, n+1, 1):\n",
    "        #xi_list.append(xi_eq(a, b, n, c, i))\n",
    "        #profiti_list.append(profit_eq(a, b, n, c, i))\n",
    "   \n",
    "    \n",
    "    #the quantity for the entire number of firms\n",
    "    X = X_eq(a, b, n, c)\n",
    "\n",
    "    return X,price, c\n",
    "    output = print('\\n The number of firms drawn are ' + Round(n)  + \n",
    "                  '\\n The total amount produced is ' + Round(X) +',' + ' while the price is ' + Round(price) + \n",
    "                   '\\n The average profit for each firm is ' + Round(np.array(profiti_list).mean()) + '.'\n",
    "                   '\\n')\n",
    "    \n",
    "    return output\n",
    "    \n",
    "\n",
    "    "
   ]
  },
  {
   "cell_type": "code",
   "execution_count": 39,
   "id": "61472c0c-fe6a-4a5b-a069-3b4101f54fa1",
   "metadata": {},
   "outputs": [
    {
     "name": "stdout",
     "output_type": "stream",
     "text": [
      "979.4548976585473 3.054510234142361\n"
     ]
    }
   ],
   "source": [
    "X,price, c_vec =  EQ_N(a, b, 1000, c_low, c_high)\n",
    "print(X,price)"
   ]
  },
  {
   "cell_type": "code",
   "execution_count": 40,
   "id": "74c6d09f-3e8e-494d-987b-ab0a59ba040d",
   "metadata": {},
   "outputs": [
    {
     "name": "stderr",
     "output_type": "stream",
     "text": [
      "<ipython-input-40-9ffd9dfcf7ba>:4: VisibleDeprecationWarning: Creating an ndarray from ragged nested sequences (which is a list-or-tuple of lists-or-tuples-or ndarrays with different lengths or shapes) is deprecated. If you meant to do this, you must specify 'dtype=object' when creating the ndarray.\n",
      "  output_vec1 = array([EQ_N(a,b,n,c_low,c_high) for n in n_vec])\n"
     ]
    },
    {
     "data": {
      "image/png": "[encoded data removed]",
      "text/plain": [
       "<Figure size 576x396 with 1 Axes>"
      ]
     },
     "metadata": {},
     "output_type": "display_data"
    }
   ],
   "source": [
    "n_vec = list(range(100,1000))\n",
    "\n",
    "\n",
    "output_vec1 = array([EQ_N(a,b,n,c_low,c_high) for n in n_vec])\n",
    "\n",
    "\n",
    "fig,ax = plt.subplots()\n",
    "ax.plot(n_vec,output_vec1[:,0], label = '$X$')\n",
    "plt.legend()\n",
    "plt.show()"
   ]
  },
  {
   "cell_type": "code",
   "execution_count": 41,
   "id": "ee0b70ba-24a3-40ff-b557-ebddb83b1b2b",
   "metadata": {},
   "outputs": [
    {
     "data": {
      "image/png": "[encoded data removed]",
      "text/plain": [
       "<Figure size 576x396 with 1 Axes>"
      ]
     },
     "metadata": {},
     "output_type": "display_data"
    }
   ],
   "source": [
    "\n",
    "fig,ax = plt.subplots()\n",
    "ax.plot(n_vec,output_vec1[:,1], label = '$X$')\n",
    "plt.legend()\n",
    "plt.show()"
   ]
  },
  {
   "cell_type": "code",
   "execution_count": 42,
   "id": "c192c684-e028-403d-9830-b6bb9162f987",
   "metadata": {},
   "outputs": [],
   "source": [
    "def solution(a,b,c_vec):\n",
    "    n= len(c_vec)\n",
    "    q = n/(n+1) * (a-np.mean(c_vec))/b\n",
    "    p = a-b*q\n",
    "    return q,p"
   ]
  },
  {
   "cell_type": "code",
   "execution_count": 43,
   "id": "13e4362a-b892-4eaf-af57-9103688d9520",
   "metadata": {},
   "outputs": [
    {
     "data": {
      "text/plain": [
       "(979.4548976585766, 3.0545102341423416)"
      ]
     },
     "execution_count": 43,
     "metadata": {},
     "output_type": "execute_result"
    }
   ],
   "source": [
    "solution(a,b,c_vec)"
   ]
  },
  {
   "cell_type": "code",
   "execution_count": 44,
   "id": "45a40232-d285-4171-93a8-4fbb558b3703",
   "metadata": {},
   "outputs": [
    {
     "data": {
      "text/plain": [
       "(742.5, 26.75)"
      ]
     },
     "execution_count": 44,
     "metadata": {},
     "output_type": "execute_result"
    }
   ],
   "source": [
    "solution(a,b,[1,2,3])"
   ]
  },
  {
   "cell_type": "code",
   "execution_count": 45,
   "id": "12e49545-f1c6-466c-9c50-be4af41f6d96",
   "metadata": {},
   "outputs": [],
   "source": [
    "def setup_solve(a,b,n,c_low,c_high):\n",
    "    c_vec = [random.uniform(c_low, c_high) for i in range(n)]\n",
    "    return solution(a,b,c_vec)"
   ]
  },
  {
   "cell_type": "code",
   "execution_count": 46,
   "id": "ea3c31ed-8663-4ad2-a8a6-d5b44b990e9d",
   "metadata": {},
   "outputs": [
    {
     "data": {
      "image/png": "[encoded data removed]",
      "text/plain": [
       "<Figure size 576x396 with 1 Axes>"
      ]
     },
     "metadata": {},
     "output_type": "display_data"
    }
   ],
   "source": [
    "n_vec = list(range(100,1000))\n",
    "c = 3\n",
    "\n",
    "#output_vec = array([setup_solve(a,b,n,1,5) for n in n_vec])\n",
    "output_vec = array([solution(a,b,c_vec) for c_vec in output_vec1[:,2]])\n",
    "\n",
    "\n",
    "fig,ax = plt.subplots()\n",
    "ax.plot(n_vec,output_vec[:,0], label = '$X$')\n",
    "plt.legend()\n",
    "plt.show()"
   ]
  },
  {
   "cell_type": "code",
   "execution_count": 47,
   "id": "6809aad3-eac5-4c4f-a147-feb0ac83a74f",
   "metadata": {},
   "outputs": [
    {
     "data": {
      "image/png": "[encoded data removed]",
      "text/plain": [
       "<Figure size 576x396 with 1 Axes>"
      ]
     },
     "metadata": {},
     "output_type": "display_data"
    }
   ],
   "source": [
    "plt.style.use('seaborn')\n",
    "plt.clf()\n",
    "plt.plot(n_vec,output_vec[:,1], label = '$price$')\n",
    "plt.legend()\n",
    "plt.show()"
   ]
  },
  {
   "cell_type": "code",
   "execution_count": 48,
   "id": "b047393f-01e7-47a3-87fb-948b53947f51",
   "metadata": {},
   "outputs": [
    {
     "data": {
      "text/plain": [
       "3.129127017124361"
      ]
     },
     "execution_count": 48,
     "metadata": {},
     "output_type": "execute_result"
    }
   ],
   "source": [
    "output_vec[-1,1]"
   ]
  },
  {
   "cell_type": "markdown",
   "id": "6268cc67-97e8-4a81-8892-e29b6c5dbeee",
   "metadata": {},
   "source": [
    "**Solving using python**\n"
   ]
  },
  {
   "cell_type": "code",
   "execution_count": 49,
   "id": "9170be77-5284-46eb-b272-1c2e8accba9c",
   "metadata": {},
   "outputs": [],
   "source": [
    "N = 100\n",
    "c_low, c_high = 3,5\n",
    "c_vec = np.random.uniform(c_low,c_high,size=N)"
   ]
  },
  {
   "cell_type": "code",
   "execution_count": 50,
   "id": "d0d6e262-c0fa-4f0f-9c15-c9ee4a492714",
   "metadata": {},
   "outputs": [],
   "source": [
    "def focs(a,b,q_vec,c_vec):\n",
    "    # Using analytical FOCs from pdf-link\n",
    "    return -b*q_vec+a-b*np.sum(q_vec)-c_vec"
   ]
  },
  {
   "cell_type": "code",
   "execution_count": 51,
   "id": "b623de53-c4a1-4dd1-afbb-b1b72439702b",
   "metadata": {},
   "outputs": [],
   "source": [
    "def solve(a,b,c_vec):\n",
    "    obj = lambda q_vec : focs(a,b,q_vec,c_vec)\n",
    "\n",
    "    res = optimize.root(obj, x0 = [90 for n in range(N)])\n",
    "     \n",
    "    q_vec_star = res.x\n",
    "    Q = np.sum(q_vec_star)\n",
    "    \n",
    "    # Use inverse demand to find price \n",
    "    p = a- b*Q\n",
    "    return Q, p\n",
    "    \n",
    "    "
   ]
  },
  {
   "cell_type": "code",
   "execution_count": 52,
   "id": "edb712ac-da55-4ccc-a709-a76c64a2fa2a",
   "metadata": {},
   "outputs": [
    {
     "data": {
      "text/plain": [
       "(960.2800162703653, 4.971998372963469)"
      ]
     },
     "execution_count": 52,
     "metadata": {},
     "output_type": "execute_result"
    }
   ],
   "source": [
    "solve(a,b,c_vec)"
   ]
  },
  {
   "cell_type": "code",
   "execution_count": 53,
   "id": "b243157d-06a1-465b-b4cd-5bde543c280a",
   "metadata": {},
   "outputs": [
    {
     "data": {
      "text/plain": [
       "(960.2800162703655, 4.971998372963441)"
      ]
     },
     "execution_count": 53,
     "metadata": {},
     "output_type": "execute_result"
    }
   ],
   "source": [
    "# Compare\n",
    "solution(a,b,c_vec)"
   ]
  },
  {
   "cell_type": "markdown",
   "id": "injured-ethernet",
   "metadata": {},
   "source": [
    "**Conclusion**"
   ]
  },
  {
   "cell_type": "markdown",
   "id": "owned-enemy",
   "metadata": {},
   "source": [
    "In this paper we examine two firms who have the possibility of competing in Bertrand, Stackelberg and Cournot. We use the same parameter values for all competition types, and find that the firms benefit the most from competing in a Cournot setting as this yields the highest total profits of 22,222. This is intuitive, as in contrast to Bertrand, the firms will undercut each other until their price is equal to their marginal costs to obtain efficiency. Therefore, this setting yields a price as in perfect competition, whereas Cournot yields an oligopoly equilibrium. \n",
    "\n",
    "As Cournot yields the best outcome in terms of profits for two firms, we extend this setting for $n$ firms. We find that for $n\\rightarrow\\infty$, the average profit for a firm decreases because competing in quantities becomes more intense as the competition setting moves from oligopoly to infinitely many firms competing in quantities."
   ]
  }
 ],
 "metadata": {
  "kernelspec": {
   "display_name": "Python 3",
   "language": "python",
   "name": "python3"
  },
  "language_info": {
   "codemirror_mode": {
    "name": "ipython",
    "version": 3
   },
   "file_extension": ".py",
   "mimetype": "text/x-python",
   "name": "python",
   "nbconvert_exporter": "python",
   "pygments_lexer": "ipython3",
   "version": "3.8.8"
  }
 },
 "nbformat": 4,
 "nbformat_minor": 5
}
