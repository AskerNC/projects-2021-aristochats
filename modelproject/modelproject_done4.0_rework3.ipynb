{
 "cells": [
  {
   "cell_type": "markdown",
   "id": "numeric-palmer",
   "metadata": {},
   "source": [
    "**Competing in different settings**"
   ]
  },
  {
   "cell_type": "markdown",
   "id": "naval-wedding",
   "metadata": {},
   "source": [
    "In this project we consider 2 firms who compete in the same duopolistic market. We will look at three possible competition forms, which are characterized by\n",
    "\n",
    "**Cournot**\n",
    "\n",
    "- Firms compete in quantities, and decide upon these independently and simultaneously \n",
    "\n",
    "- Firms profit maximize given the other's choice of quantity\n",
    "\n",
    "- Both firms have market power, thus one's decision of output affects the price of the other's goods\n",
    "\n",
    "**Bertrand**\n",
    "\n",
    "- Firms compete in prices, and decide upon these simultaneously and as if they were in a perfect competition setting\n",
    "\n",
    "- We assume that consumers seek the lowest price \n",
    "\n",
    "- When prices are set, output is given as \n",
    "\n",
    "$$D\\left(p_{i},p_{j}\\right)=\\begin{cases}\n",
    "D\\left(p_{i}\\right) & p_{i}<p_{j}\\\\\n",
    "\\frac{D\\left(p_{i}\\right)}{2} & p_{i}=p_{j}\\\\\n",
    "0 & p_{i}>p_{j}\n",
    "\\end{cases}$$\n",
    "\n",
    "**Stackelberg**\n",
    "\n",
    "- Firms compete in quantities, and decide upon these sequentially. \n",
    "\n",
    "- One firm is assumed to be the leader, and the other is the follower. \n",
    "\n",
    "In the following we will analyse a sitaution with linear demand with $a=101$, $b=0.1$ and cost equal to 1 for all firms under all three situations.\n"
   ]
  },
  {
   "cell_type": "code",
   "execution_count": 814,
   "id": "designing-payday",
   "metadata": {},
   "outputs": [],
   "source": [
    "#Import packages\n",
    "from scipy import optimize,arange\n",
    "from numpy import array\n",
    "import numpy as np\n",
    "import matplotlib.pyplot as plt\n",
    "import random\n",
    "import sympy as sm\n",
    "from math import *\n",
    "%matplotlib inline\n",
    "from IPython.display import Markdown, display\n",
    "import pandas as pd"
   ]
  },
  {
   "cell_type": "markdown",
   "id": "understood-doctrine",
   "metadata": {},
   "source": [
    "**Bertand**"
   ]
  },
  {
   "cell_type": "markdown",
   "id": "constitutional-sudan",
   "metadata": {},
   "source": [
    "First we wanna solve the case of Bertand competetion, i.e a sitatuion, where the firms compete in prices. Here we consider two companies who are selling differentiated products. The quantity each firm produces is dependent on the on it's own price $p_1$ and the competitor's price $p_2$.\n",
    "$$x_1 = a - p_1 +bp_2$$\n",
    "$$x_2 = a - p_2 + bp_1$$\n",
    "The individual companies profits can be defined as: \n",
    "$$\\pi_1 = (p_1 - c_1)(a - p_1 +bp_2)$$\n",
    "$$\\pi_2 = (p_2 - c_2)(a - p_2 + bp_1).$$\n",
    "For the following parts we assume that both companies have identical marginal costs and thus $$c_1 = c_2 = c.$$"
   ]
  },
  {
   "cell_type": "code",
   "execution_count": 815,
   "id": "devoted-navigator",
   "metadata": {},
   "outputs": [],
   "source": [
    "#Variables\n",
    "a = sm.symbols('a')\n",
    "p1 = sm.symbols('p1') \n",
    "p2 = sm.symbols('p2') \n",
    "c = sm.symbols('c') \n",
    "b = sm.symbols('b') \n",
    "alpha=sm.symbols('alpha')\n",
    "\n",
    "#Frist we define the profit funtioncs for the two firms:  \n",
    "pi1 = (p1-c)*(a-p1+b*p2)\n",
    "pi2 = (p2-c)*(a-p2+b*p1)"
   ]
  },
  {
   "cell_type": "markdown",
   "id": "aware-garden",
   "metadata": {},
   "source": [
    "In order to get the equilibrium price we first have to determine the first order conditions (FOC) by maximizing the profit functions of the individual firms with repsect to the prices they offer. \n",
    "$$\\frac{\\partial\\pi_1}{\\partial p_1}= a - 2p_1 + bp_2 + c=0$$\n",
    "$$\\frac{\\partial\\pi_2}{\\partial p_2}= a - 2p_2 + bp_1 + c=0$$\n",
    "\n",
    "By solving the first order conditions for the respective prices we arrive at the reaction functions. \n",
    "$$p_1^{*} = \\frac{a+ b*p_2 + c}{2}$$\n",
    "$$p_2^{*} = \\frac{a+ b*p_1 + c}{2}$$\n",
    "\n",
    "By setting them equal, since it is the best repsonse for both firms to set their price equal to the competitior's price, we arrive at our equilibrium price: \n",
    "$$p^{*} = \\frac{-(a+c)}{b-2}$$"
   ]
  },
  {
   "cell_type": "code",
   "execution_count": 816,
   "id": "weird-coating",
   "metadata": {},
   "outputs": [
    {
     "name": "stdout",
     "output_type": "stream",
     "text": [
      "-(a + c)/(b - 2)\n"
     ]
    }
   ],
   "source": [
    "#The first order conditions are then: \n",
    "FOC1 = sm.diff(pi1, p1)\n",
    "FOC2 = sm.diff(pi2, p2)\n",
    "\n",
    "\n",
    "#Reactionsfuncions \n",
    "RF1 = sm.solve(FOC1, p1)[0]\n",
    "RF2 = sm.solve(FOC2, p2)[0]\n",
    "\n",
    "#Equilibrium price\n",
    "RF12 = sm.solve(FOC2,p1)[0] \n",
    "EP1 = sm.solve(RF1-RF12,p2)[0]\n",
    "print(EP1) #Equilibrium price both companies will charge \n",
    "RF21 = sm.solve(FOC1,p2)[0] \n",
    "EP2 = sm.solve(RF2-RF21,p1)[0]"
   ]
  },
  {
   "cell_type": "markdown",
   "id": "primary-variety",
   "metadata": {},
   "source": [
    "Using the lambdify feature from the sympy package we can now make a function to solve the bertrand competition for chosen values. In this case we set $a$ equal to 101, $b$ equal to 0.1 and $c$ equal to 1 (the numbers were decided on arbitrarily).\n"
   ]
  },
  {
   "cell_type": "code",
   "execution_count": 873,
   "id": "respective-hungarian",
   "metadata": {},
   "outputs": [
    {
     "data": {
      "text/markdown": [
       "The equilibrium price is $p$ = 53.7, the equilibrium quantity is $x$ = 52.7 and the profits for both firms are $π$ = 2775.6"
      ],
      "text/plain": [
       "<IPython.core.display.Markdown object>"
      ]
     },
     "metadata": {},
     "output_type": "display_data"
    }
   ],
   "source": [
    "#make it a function to solve it \n",
    "bertrand = sm.lambdify((a,b,c), EP1)\n",
    "price1=bertrand(101,0.1,1)\n",
    "quantity1 = 101 - 0.9*bertrand(101,0.1,1)\n",
    "profit1 = (bertrand(101,0.1,1)-1)*(101 - 0.9*bertrand(101,0.1,1))\n",
    "\n",
    "#Defining a way to print the solution in a fancy way\n",
    "def fancy(string):\n",
    "    \"\"\" A function that prints strings in a fancy way\n",
    "    args:\n",
    "    string : a string\n",
    "    \n",
    "    returns : a string i an fancy way\"\"\"\n",
    "    display(Markdown(string))\n",
    "\n",
    "\n",
    "fancy(f'The equilibrium price is $p$ = {price1:.1f}, the equilibrium quantity is $x$ = {quantity1:.1f} and the profits for both firms are $π$ = {profit1:.1f}') "
   ]
  },
  {
   "cell_type": "markdown",
   "id": "acquired-shelter",
   "metadata": {},
   "source": [
    "**Stackelberg**"
   ]
  },
  {
   "cell_type": "markdown",
   "id": "boxed-valuation",
   "metadata": {},
   "source": [
    "We now turn to the Stackelberg, i.e a sequantiacal competion in quantities, thus one company is the leader and the other is a follower. "
   ]
  },
  {
   "cell_type": "code",
   "execution_count": 874,
   "id": "speaking-partition",
   "metadata": {},
   "outputs": [],
   "source": [
    "#values \n",
    "p = sm.symbols('p')\n",
    "x1 = sm.symbols('x1')\n",
    "x2 = sm.symbols('x2')\n",
    "\n",
    "#Giving values to our parameters\n",
    "a = 101\n",
    "c = 1\n",
    "b = 0.1"
   ]
  },
  {
   "cell_type": "markdown",
   "id": "efficient-miami",
   "metadata": {},
   "source": [
    "Each firm chooses a quantitiy $x_{1}, x_{2}\\geq0$ where the cost of production is $c_{1}=c_{2}$. Each firm set the price $p = a-b\\left(x_{1}+x_{2}\\right)$. The profit function for firm $i$ is then written as $\\pi_{i}\\left(x_{i}\\right)=p\\left(x_{i}\\right)-c_{i}x_{i}$ Assume firm 1 is the leader and 2 is the follower. The game is solved by backward induction.\n",
    "  \n",
    "We will first define the inverse demand function $p$:"
   ]
  },
  {
   "cell_type": "code",
   "execution_count": 875,
   "id": "liquid-outreach",
   "metadata": {},
   "outputs": [],
   "source": [
    "#Defining price\n",
    "p = a - b*(x1+x2)  "
   ]
  },
  {
   "cell_type": "markdown",
   "id": "vocal-dressing",
   "metadata": {},
   "source": [
    "Then, we set up the profit function for firm 1 and firm 2:"
   ]
  },
  {
   "cell_type": "code",
   "execution_count": 876,
   "id": "silver-respect",
   "metadata": {},
   "outputs": [],
   "source": [
    "#Profit function of firm 1\n",
    "profit_1 = p*x1 - c*x1\n",
    "profit_2 = p*x2 - c*x2"
   ]
  },
  {
   "cell_type": "markdown",
   "id": "legislative-parcel",
   "metadata": {},
   "source": [
    "We will say that firm 1 decides first on its output. Firm 2 observes the decision of firm 1 and decides how to reacht. We can solve the problem backwards and find optimal output of firm 2 for each possible output level of firm 1.  \n",
    "It means that we maximize the profit of firm 2 by differentiating it by $x_2$."
   ]
  },
  {
   "cell_type": "code",
   "execution_count": 825,
   "id": "brown-swedish",
   "metadata": {},
   "outputs": [
    {
     "data": {
      "text/latex": [
       "$\\displaystyle - 0.1 x_{1} - 0.2 x_{2} + 100$"
      ],
      "text/plain": [
       "-0.1*x1 - 0.2*x2 + 100"
      ]
     },
     "execution_count": 825,
     "metadata": {},
     "output_type": "execute_result"
    }
   ],
   "source": [
    "#Differentiating the profit of firm 2 by q2\n",
    "\n",
    "diff_profit_2 = sm.diff(profit_2, x2)\n",
    "diff_profit_2"
   ]
  },
  {
   "cell_type": "code",
   "execution_count": 826,
   "id": "confused-russian",
   "metadata": {},
   "outputs": [
    {
     "data": {
      "text/latex": [
       "$\\displaystyle 500.0 - 0.5 x_{1}$"
      ],
      "text/plain": [
       "500.0 - 0.5*x1"
      ]
     },
     "execution_count": 826,
     "metadata": {},
     "output_type": "execute_result"
    }
   ],
   "source": [
    "#Finding optimal q2 by isolating q2 from the differentiation\n",
    "opt_2 = sm.solve(diff_profit_2, x2)\n",
    "opt_2[0]"
   ]
  },
  {
   "cell_type": "markdown",
   "id": "renewable-oxide",
   "metadata": {},
   "source": [
    "Then, we can substitute $q_2$ into the profit function of firm 1. Thanks to that, we have a single variable function."
   ]
  },
  {
   "cell_type": "code",
   "execution_count": 827,
   "id": "tested-yeast",
   "metadata": {},
   "outputs": [
    {
     "data": {
      "text/latex": [
       "$\\displaystyle x_{1} \\left(51.0 - 0.05 x_{1}\\right) - x_{1}$"
      ],
      "text/plain": [
       "x1*(51.0 - 0.05*x1) - x1"
      ]
     },
     "execution_count": 827,
     "metadata": {},
     "output_type": "execute_result"
    }
   ],
   "source": [
    "#Substituting q2 into the profit function of firm 1\n",
    "profit_1_subs = profit_1.subs(x2,opt_2[0])\n",
    "profit_1_subs"
   ]
  },
  {
   "cell_type": "markdown",
   "id": "elementary-genetics",
   "metadata": {},
   "source": [
    "Once again, we need to differentiate the profit of firm 1 by $q_1$ to find the optimal value of $q_1$."
   ]
  },
  {
   "cell_type": "code",
   "execution_count": 828,
   "id": "public-livestock",
   "metadata": {},
   "outputs": [
    {
     "data": {
      "text/latex": [
       "$\\displaystyle 50.0 - 0.1 x_{1}$"
      ],
      "text/plain": [
       "50.0 - 0.1*x1"
      ]
     },
     "execution_count": 828,
     "metadata": {},
     "output_type": "execute_result"
    }
   ],
   "source": [
    "#Differentiating the profit of firm 1 by q1\n",
    "\n",
    "diff_profit_1 = sm.diff(profit_1_subs, x1)\n",
    "diff_profit_1"
   ]
  },
  {
   "cell_type": "code",
   "execution_count": 829,
   "id": "forty-remark",
   "metadata": {},
   "outputs": [
    {
     "data": {
      "text/latex": [
       "$\\displaystyle 500.0$"
      ],
      "text/plain": [
       "500.000000000000"
      ]
     },
     "execution_count": 829,
     "metadata": {},
     "output_type": "execute_result"
    }
   ],
   "source": [
    "#Finding the optimal value of q1\n",
    "\n",
    "opt_1 = sm.solve(diff_profit_1, x1)\n",
    "opt_1[0]"
   ]
  },
  {
   "cell_type": "markdown",
   "id": "subtle-netscape",
   "metadata": {},
   "source": [
    "Now, we can find the optimal value of $q_2$."
   ]
  },
  {
   "cell_type": "code",
   "execution_count": 830,
   "id": "entertaining-cinema",
   "metadata": {},
   "outputs": [
    {
     "data": {
      "text/latex": [
       "$\\displaystyle 250.0$"
      ],
      "text/plain": [
       "250.000000000000"
      ]
     },
     "execution_count": 830,
     "metadata": {},
     "output_type": "execute_result"
    }
   ],
   "source": [
    "opt_2_subs = opt_2[0].subs(x1,opt_1[0])\n",
    "opt_2_subs"
   ]
  },
  {
   "cell_type": "markdown",
   "id": "korean-malaysia",
   "metadata": {},
   "source": [
    "We can also find the equilibrium market price, profit of firm 1 and profit of firm 2:"
   ]
  },
  {
   "cell_type": "code",
   "execution_count": 833,
   "id": "athletic-study",
   "metadata": {},
   "outputs": [
    {
     "data": {
      "text/markdown": [
       "The equilibrium price is $p$ = 26, and the profits for both firms are $π_1$ = 12500 and $π_2$ = 6250"
      ],
      "text/plain": [
       "<IPython.core.display.Markdown object>"
      ]
     },
     "metadata": {},
     "output_type": "display_data"
    }
   ],
   "source": [
    "#Finding equilibrium market price\n",
    "p = a - b*(opt_1[0] + opt_2_subs)\n",
    "\n",
    "#Finding profit of firm 1\n",
    "profit_1 = p*opt_1[0] - c*opt_1[0]\n",
    "\n",
    "#Finding profit of firm 2\n",
    "profit_2 = p*opt_2_subs - c*opt_2_subs\n",
    "\n",
    "\n",
    "fancy(f'The equilibrium price is $p$ = {p:.0f}, and the profits for both firms are $π_1$ = {profit_1:.0f} and $π_2$ = {profit_2:.0f}')"
   ]
  },
  {
   "cell_type": "markdown",
   "id": "freelance-rental",
   "metadata": {},
   "source": [
    "We now want to make a figure that show how the beste responses relate."
   ]
  },
  {
   "cell_type": "code",
   "execution_count": 871,
   "id": "wired-grass",
   "metadata": {},
   "outputs": [
    {
     "data": {
      "image/png": "[encoded data removed]",
      "text/plain": [
       "<Figure size 1080x720 with 1 Axes>"
      ]
     },
     "metadata": {},
     "output_type": "display_data"
    }
   ],
   "source": [
    "#Defining the x-axis\n",
    "qu_1 = np.linspace(0, 1000, 1000)\n",
    "\n",
    "#Defining the lambda functions for our best responses functions\n",
    "BR2 = lambda qu_1 : 500 - qu_1/2\n",
    "BR1 = lambda qu_1 : 500 - qu_1/2\n",
    "\n",
    "#Plotting the figure\n",
    "plt.figure(figsize=(15,10))\n",
    "plt.plot(qu_1, BR2(qu_1), label = \"Best Response of Firm 1\")\n",
    "plt.plot(BR1(qu_1),qu_1 , label = \"Best Response of Firm 2\")\n",
    "plt.grid(True)         \n",
    "plt.xlabel('$x_1$')\n",
    "plt.ylabel('$x_2$')\n",
    "plt.title('Best response functions')\n",
    "plt.legend()\n",
    "\n",
    "#To include a quantity of 0 for 1 firm, we set the axis like this\n",
    "plt.xlim(0,1000) # sets the x-axis\n",
    "plt.ylim(-100,600) # Sets the y-axis\n",
    "\n",
    "\n",
    "plt.show()"
   ]
  },
  {
   "cell_type": "markdown",
   "id": "first-suite",
   "metadata": {},
   "source": [
    "**ADRIAN - this should be changed. This tells that when firm chooses a quantity of 500 in the first stage, firm 2 will choose a quantity half the size of firm 1 in second stage. In a case where firm 1 chooses to produce 1000 units, firm 2 will then produce 0.** "
   ]
  },
  {
   "cell_type": "markdown",
   "id": "aquatic-parking",
   "metadata": {},
   "source": [
    "**Cournot**"
   ]
  },
  {
   "cell_type": "markdown",
   "id": "appropriate-consistency",
   "metadata": {},
   "source": [
    "For the Cournot case we are gonna set up some functions to solve the model in order to make an extention with n firms later on. For the solution with we have found inspiration in the following article: http://janboone.github.io/competition_policy_and_regulation/Collusion_Cournot/Collusion_Cournot.html"
   ]
  },
  {
   "cell_type": "markdown",
   "id": "unsigned-worthy",
   "metadata": {},
   "source": [
    "Consider the linear invese demand curve $p\\left(x_{1},x_{2}\\right)=a-x_{1}-bx_{j}$ where $b\\in\\left(0,1\\right)$ is the elasticity of substitution between the goods, i.e. indicates that the goods are heterogenous for $0<b<1$. \n",
    "\n",
    "We write the inverse demand:"
   ]
  },
  {
   "cell_type": "code",
   "execution_count": 888,
   "id": "another-provider",
   "metadata": {},
   "outputs": [],
   "source": [
    "#Variables\n",
    "a = sm.symbols('a')\n",
    "x1 = sm.symbols('x1') \n",
    "x2 = sm.symbols('x2') \n",
    "c1 = sm.symbols('c1')\n",
    "c2 = sm. symbols('c2')\n",
    "c = sm.symbols('c')\n",
    "b = sm.symbols('b') \n",
    "pi = sm.symbols('pi') "
   ]
  },
  {
   "cell_type": "code",
   "execution_count": 889,
   "id": "inner-andorra",
   "metadata": {},
   "outputs": [],
   "source": [
    "def price(x1,x2,a,b):\n",
    "    \"\"\"A function that computes price \n",
    "    args:\n",
    "    x1 : quantity for firm 1 \n",
    "    x2 : quantity for firm 2 \n",
    "    a :total demand \n",
    "    b : elasticity of substitution\n",
    "    \n",
    "    returns a float\n",
    "    \"\"\"\n",
    "    return a-b*(x1+x2)\n"
   ]
  },
  {
   "cell_type": "markdown",
   "id": "disabled-disabled",
   "metadata": {},
   "source": [
    "Firms have constant marginal costs, where total costs are given by $c\\left(x_{1,2}\\right)=cx_{1,2}$"
   ]
  },
  {
   "cell_type": "code",
   "execution_count": 890,
   "id": "northern-apparatus",
   "metadata": {},
   "outputs": [],
   "source": [
    "def cost(x,c):\n",
    "    \"\"\"A function that computes total cost\n",
    "    args:\n",
    "    c : cost for firm i\n",
    "    x : quantity for firm i\n",
    "    \n",
    "    returns a float  \n",
    "    \"\"\"\n",
    "    cost = c*x\n",
    "    return cost"
   ]
  },
  {
   "cell_type": "markdown",
   "id": "joint-crystal",
   "metadata": {},
   "source": [
    "Firms maximize profits given the choice of the other firm such that $$\\pi\\left(x_{1},x_{2}\\right)=p_{1}\\left(x_{1},x_{2}\\right)x_{1}-c\\left(x_{1}\\right)$$"
   ]
  },
  {
   "cell_type": "code",
   "execution_count": 883,
   "id": "intimate-sweden",
   "metadata": {},
   "outputs": [],
   "source": [
    "def profit(x1,x2,c1,a,b):\n",
    "    \"\"\"A function that computes profit for firm 1\n",
    "    args:\n",
    "    x1 : quantity for firm 1 \n",
    "    x2 : quantity for firm 2 \n",
    "    c1 : cost for firm 1 \n",
    "    a : total demand \n",
    "    b : elasticity of substitution\n",
    "    \n",
    "    returns a float\n",
    "    \"\"\"\n",
    "    return price(x1,x2,a,b)*x1-cost(x1,c1)"
   ]
  },
  {
   "cell_type": "markdown",
   "id": "crude-scout",
   "metadata": {},
   "source": [
    "In a Cournot setting, firm $1$ chooses $x_{1}$ taking $x_{2}$ as given. Thus, the Nash equilibrium for $x_{1}^{*},x_{2}^{*}$ holds for $$x_{1}^{*}=\\text{arg}\\underset{x_{1}}{\\text{ max }}\\pi\\left(x_{1},x_{2}^{*}\\right)\\;\\;\\;\\;\\;\\;\\text{for each }i\\neq j$$ Hence, taking the first order condition to find the Nash equilibrium for $x_{1}^{*},x_{2}^{*}$ yields $$\\frac{\\partial\\pi\\left(x_{1},x_{2}\\right)}{\\partial x_{1,2}}=0$$\n",
    "\n",
    "We differentiate the profit function. First we need to make it into a expression in order to use `SymPy.diff`\n"
   ]
  },
  {
   "cell_type": "code",
   "execution_count": 884,
   "id": "standard-singer",
   "metadata": {},
   "outputs": [
    {
     "data": {
      "text/latex": [
       "$\\displaystyle a - b x_{1} - b \\left(x_{1} + x_{2}\\right) - c_{1}$"
      ],
      "text/plain": [
       "a - b*x1 - b*(x1 + x2) - c1"
      ]
     },
     "execution_count": 884,
     "metadata": {},
     "output_type": "execute_result"
    }
   ],
   "source": [
    "#Profit for firm i \n",
    "pi_1 = profit(x,x2,c1,a,b) #taking the defined function from above \n",
    "\n",
    "#FOC is then\n",
    "foc1 = sm.diff(pi_1,x1)\n",
    "foc1"
   ]
  },
  {
   "cell_type": "code",
   "execution_count": 885,
   "id": "regulation-magazine",
   "metadata": {},
   "outputs": [
    {
     "data": {
      "text/latex": [
       "$\\displaystyle a - b x_{2} - b \\left(x_{1} + x_{2}\\right) - c_{2}$"
      ],
      "text/plain": [
       "a - b*x2 - b*(x1 + x2) - c2"
      ]
     },
     "execution_count": 885,
     "metadata": {},
     "output_type": "execute_result"
    }
   ],
   "source": [
    "#Profit for firm 2 \n",
    "pi_2 = profit(x2,x1,c2,a,b)\n",
    "\n",
    "#FOC is then\n",
    "foc2 = sm.diff(pi_2,x2)\n",
    "foc2"
   ]
  },
  {
   "cell_type": "markdown",
   "id": "stuffed-canada",
   "metadata": {},
   "source": [
    "We now set this equal to 0:"
   ]
  },
  {
   "cell_type": "code",
   "execution_count": 886,
   "id": "innocent-borough",
   "metadata": {},
   "outputs": [
    {
     "data": {
      "text/latex": [
       "$\\displaystyle \\frac{a - b x_{2} - c_{1}}{2 b}$"
      ],
      "text/plain": [
       "(a - b*x2 - c1)/(2*b)"
      ]
     },
     "execution_count": 886,
     "metadata": {},
     "output_type": "execute_result"
    }
   ],
   "source": [
    "#For firm 1 \n",
    "top1 = sm.solve(sm.Eq(foc1,0),x1)[0]\n",
    "top1"
   ]
  },
  {
   "cell_type": "code",
   "execution_count": 887,
   "id": "completed-tennessee",
   "metadata": {},
   "outputs": [
    {
     "data": {
      "text/latex": [
       "$\\displaystyle \\frac{a - b x_{1} - c_{2}}{2 b}$"
      ],
      "text/plain": [
       "(a - b*x1 - c2)/(2*b)"
      ]
     },
     "execution_count": 887,
     "metadata": {},
     "output_type": "execute_result"
    }
   ],
   "source": [
    "#For firm 2\n",
    "top2 = sm.solve(sm.Eq(foc2,0),x2)[0]\n",
    "top2"
   ]
  },
  {
   "cell_type": "markdown",
   "id": "indian-subdivision",
   "metadata": {},
   "source": [
    "Thus, we are able to find the optimal production level for a firm $1$ given the choice of $x_{2}$ by creating the function 'BR'. In this case, we use the function `fmin`. This allows one to look for the global maximum of $\\pi$. Likewise, we keep in mind that `optimize` is bound to minimize problems, and since we want to maximize the profit function, we then minimize $-\\pi\\left(x_{i},x_{j}\\right)$. "
   ]
  },
  {
   "cell_type": "code",
   "execution_count": 849,
   "id": "extraordinary-oliver",
   "metadata": {},
   "outputs": [],
   "source": [
    "def BR(x2,c1,b,a):\n",
    "    \"\"\"A function that computes the optimal quantity\n",
    "    args\n",
    "    x2 : quantity for firm 2\n",
    "    c1 : cost for firm 1\n",
    "    b : elasticity of substitution\n",
    "    a : total demand \n",
    "    \n",
    "    returns a float\n",
    "    \"\"\" \n",
    "    x1 = optimize.fmin(lambda x: -profit(x,x2,c1,a,b), 0.1, disp=0)\n",
    "                                                                 \n",
    "    return x1[0]"
   ]
  },
  {
   "cell_type": "markdown",
   "id": "particular-water",
   "metadata": {},
   "source": [
    "Now, we must find an equilibrium for price and quantity given their best response. For this reason, consider the vector function $f\\left(x_{1},x_{2}\\right)$ which takes firm $1$'s best response $r_{1}\\left(x_{2}\\right)$ to $2$ 's production level $x_{2}$ into consideration. We can write this as $$f\\left(x_{1},x_{2}\\right)=\\left[\\begin{array}{c}\n",
    "r_{1}\\left(x_{2}^{*}\\right)\\\\\n",
    "r_{2}\\left(x_{1}^{*}\\right)\n",
    "\\end{array}\\right]$$ \n",
    "\n",
    "We are then looking for the quantities produced is equal to best response given what the other firm produce, i.e the point where: \n",
    "\n",
    "$$\\left(\\begin{array}{c}\n",
    "x_{1}^{*}\\\\\n",
    "x_{2}^{*}\n",
    "\\end{array}\\right)=\\left(\\begin{array}{c}\n",
    "r_{1}(x_{2}^{*})\\\\\n",
    "r_{2}(x_{1}^{*})\n",
    "\\end{array}\\right)$$\n"
   ]
  },
  {
   "cell_type": "markdown",
   "id": "adverse-producer",
   "metadata": {},
   "source": [
    "Thus, we create a function 'vec_reaction' given by the difference between an array of the quantaites subtracted by the best response functions and pass $b,a, c_{i},c_{j}$ as a vector of parameters."
   ]
  },
  {
   "cell_type": "code",
   "execution_count": 891,
   "id": "cordless-career",
   "metadata": {},
   "outputs": [],
   "source": [
    "def vec_reaction(x,param): \n",
    "    \"\"\"A function that computes the difference between the quantities and the beste response functions\n",
    "    args\n",
    "    x : quantaties\n",
    "    param : list of parameters\n",
    "    \"\"\"\n",
    "    return array(x)-array([BR(x[1],param[2],param[0],param[1]),BR(x[0],param[3],param[0], param[1])])"
   ]
  },
  {
   "cell_type": "markdown",
   "id": "accompanied-monkey",
   "metadata": {},
   "source": [
    "Now, moving on to find the actual Cournot equilibrium, we are able to set the values of each paramter. Using the `fsolve` from `scipy.optimize` to find $x$. Also, giving `fsolve` the inital guess of the quantaites, while passing the paramater vector 'param' as arguments 'args' to 'fsolve', this yields:"
   ]
  },
  {
   "cell_type": "code",
   "execution_count": 892,
   "id": "chronic-stanley",
   "metadata": {},
   "outputs": [
    {
     "data": {
      "text/markdown": [
       "The Nash equilibrium quantity for both firms are $x^* =[x_1^*,x_2^*]$ = [333,333] where the equilibrium price for both firms are $p^*$ = 34 with a profit of $\\pi^*$= 11111"
      ],
      "text/plain": [
       "<IPython.core.display.Markdown object>"
      ]
     },
     "metadata": {},
     "output_type": "display_data"
    }
   ],
   "source": [
    "param = [0.1,101,1,1] #parameters as with the other models \n",
    "x0 = [0.1, 0.1] #initial guess \n",
    "\n",
    "EQ = optimize.fsolve(vec_reaction, x0, args = (param))\n",
    "\n",
    "\n",
    "fancy(f'The Nash equilibrium quantity for both firms are $x^* =[x_1^*,x_2^*]$ = [{EQ[0]:.0f},{EQ[1]:.0f}] where the equilibrium price for both firms are $p^*$ = {price(EQ[0],EQ[1],101,0.1):.0f} with a profit of $\\pi^*$= {profit(EQ[0],EQ[1],1,101,0.1):.0f}')\n"
   ]
  },
  {
   "cell_type": "markdown",
   "id": "graphic-swaziland",
   "metadata": {},
   "source": [
    "We now want to show, how the quantity produced changes, when the cost of firm 1 changes."
   ]
  },
  {
   "cell_type": "code",
   "execution_count": 852,
   "id": "looking-thousand",
   "metadata": {},
   "outputs": [
    {
     "data": {
      "image/png": "[encoded data removed]",
      "text/plain": [
       "<Figure size 576x396 with 1 Axes>"
      ]
     },
     "metadata": {},
     "output_type": "display_data"
    }
   ],
   "source": [
    "range_c = np.linspace(1,0,20)\n",
    "range_x = [optimize.fsolve(vec_reaction, x0, args = ([0.1,101, c, 1])) for c in range_c]\n",
    "\n",
    "plt.style.use('seaborn')\n",
    "plt.clf()\n",
    "plt.plot(range_c,array(range_x)[:,0], label = '$x_1$')\n",
    "plt.plot(range_c,array(range_x)[:,1], label = '$x_2$')\n",
    "plt.xlabel('$c_1$')\n",
    "plt.ylabel('$x$')\n",
    "plt.title('Quantity produced by each firm as function of cost for firm 1')\n",
    "plt.legend()\n",
    "plt.show ()"
   ]
  },
  {
   "cell_type": "markdown",
   "id": "august-dinner",
   "metadata": {},
   "source": [
    "In the figure, we see, that as the cost of firm 1 goes up, the quantity produced by firm 1 falls, while the quantity produced by firm 2 goes up."
   ]
  },
  {
   "cell_type": "markdown",
   "id": "protective-healing",
   "metadata": {},
   "source": [
    "**Compare all three cases**"
   ]
  },
  {
   "cell_type": "markdown",
   "id": "strange-adult",
   "metadata": {},
   "source": [
    "We have now tried to solve a situation with two firms competing with three different models, giving them the same parameter values. This leads to the following results:"
   ]
  },
  {
   "cell_type": "code",
   "execution_count": 868,
   "id": "neutral-california",
   "metadata": {},
   "outputs": [
    {
     "data": {
      "text/markdown": [
       "For Bertrand: The equilibrium price is $p$ = 54, the equilibrium quantity is $q$ = 53 and the profits for both firms are $π$ = 2776"
      ],
      "text/plain": [
       "<IPython.core.display.Markdown object>"
      ]
     },
     "metadata": {},
     "output_type": "display_data"
    },
    {
     "data": {
      "text/markdown": [
       "For Stackelberg: the equilibrium price is $p$ = 26, and the profits for both firms are $π_1$ = 12500 and $π_2$ = 6250"
      ],
      "text/plain": [
       "<IPython.core.display.Markdown object>"
      ]
     },
     "metadata": {},
     "output_type": "display_data"
    },
    {
     "data": {
      "text/markdown": [
       "For Cournot: the equilibrium equilibrium quantity for both firms are $x^* =[x_1^*,x_2^*]$ = [333,333] where the equilibrium price for both firms are $p^*$ = 34 with a profit of $\\pi$= 11111"
      ],
      "text/plain": [
       "<IPython.core.display.Markdown object>"
      ]
     },
     "metadata": {},
     "output_type": "display_data"
    }
   ],
   "source": [
    "fancy(f'For Bertrand: The equilibrium price is $p$ = {price1:.0f}, the equilibrium quantity is $q$ = {quantity1:.0f} and the profits for both firms are $π$ = {profit1:.0f}') \n",
    "fancy(f'For Stackelberg: the equilibrium price is $p$ = {p:.0f}, and the profits for both firms are $π_1$ = {profit_1:.0f} and $π_2$ = {profit_2:.0f}')\n",
    "fancy(f'For Cournot: the equilibrium equilibrium quantity for both firms are $x^* =[x_1^*,x_2^*]$ = [{EQ[0]:.0f},{EQ[1]:.0f}] where the equilibrium price for both firms are $p^*$ = {price(EQ[0],EQ[1],101,0.1):.0f} with a profit of $\\pi$= {profit(EQ[0],EQ[1],1,101,0.1):.0f}')\n"
   ]
  },
  {
   "cell_type": "markdown",
   "id": "dominican-luxury",
   "metadata": {},
   "source": [
    "**Cournot with N > 2 firms**"
   ]
  },
  {
   "cell_type": "markdown",
   "id": "liked-wisdom",
   "metadata": {},
   "source": [
    "In order to do an extention to one of the models, we now want to investigate the case of N > 2 firms. First we set up the situation theoretically and use Python to show this. Afterwards we will use Python to solve the model. \n",
    "In the following theoretical set-up we will follow the set-up in this note, adapting it to our situation: http://people.exeter.ac.uk/dgbalken/micro07/CournotHandout.pdf \n",
    "\n",
    "Following the notation from ealier we now add: \n",
    "\n",
    "- Firm $i$'s output: $x_i$\n",
    "\n",
    "- Total output in in industry: $X=x_1+x_2+...+x_n$\n",
    "\n",
    "- The opponent's output: $x_{-i} = X-x_i$\n",
    "\n",
    "\n",
    "\n",
    "Each firm will then max profit given the expectation of $x_{-i}$: \n",
    "\n",
    "$$\\Pi_i(x_{-i},x_i)=(p(x_{-i}+x_i)-c_i)x_i$$\n",
    "\n",
    "as with the n = 2 case we use the invese demand funcktion in a linear case:\n",
    "\n",
    "$$p = a-b(x_{-i}+x_i)=a-bX$$ \n",
    "\n",
    "The FOC of is then:\n",
    "$$\\frac{\\partial \\Pi_i}{\\partial x_i} = \\frac{\\partial p}{\\partial x_i} \\cdot x_i + p-c_i = 0$$\n",
    "\n",
    "\n",
    "where $\\frac{\\partial p}{\\partial x_i} = -b$ giving us\n",
    "\n",
    "$$\\frac{\\partial\\Pi_i}{\\partial x_i} : -bx_i + p-c_i = 0$$\n",
    "\n",
    "inserting the inverse demand function:\n",
    "\n",
    "$$\\frac{\\partial\\Pi_i}{\\partial x_i} : -bx_i + (a-b(x_{-i}+x_{i}))-c_i = 0$$\n",
    "\n",
    "solving for $x_i$ to get the reaction function for firm $i$ given its expectation for the amount the rest of the firms produce:\n",
    "\n",
    "$$x_i(x_{-i}) = \\frac{a-c}{2b}-\\frac{1}{2}x_{-i}$$\n",
    "\n",
    "which is the case for all firms $i=1,..,n$. We have $X=x_i+x_{-i}$ so the FOC found earlier can be rewritten to:\n",
    "$$ -bx_i + (a-bX-c_i) = 0$$\n",
    "\n",
    "which for the n firms:\n",
    "$$-bX + n(a-bX)-n\\bar c = 0$$\n",
    "\n",
    "where we use the average cost level: $\\bar c = \\frac{c_1+c_2+...+c_n}{n}$\n",
    "\n",
    "we can now rewrite this and get the quantity produced and the price in the market: \n",
    "\n",
    "$$bX + n(bX) = n(A-\\bar c)$$\n",
    "\n",
    "$$(n+1)bX  = n(A-\\bar c)$$\n",
    "\n",
    "Quantity is then:\n",
    "\n",
    "$$X = \\frac{n}{n+1} \\frac{a-\\bar c}{b}$$\n",
    "\n",
    "Price is:\n",
    "$$p = a-bX = a-b[\\frac{n}{n+1} \\frac{a-\\bar c}{b}] = \\frac{1}{n+1}a + \\frac{n}{n+1}\\bar c$$\n",
    "\n",
    "\n",
    "Using the found functions we can now try to set a program that is able to solve cases with N firms. \n"
   ]
  },
  {
   "cell_type": "code",
   "execution_count": 794,
   "id": "amended-france",
   "metadata": {},
   "outputs": [],
   "source": [
    "def Round(a): \n",
    "    \"\"\"A function that prints floats rounded as strings\n",
    "    args:\n",
    "    a : a float\n",
    "    \n",
    "    returns a string\n",
    "    \"\"\"\n",
    "    return str(\"{:.2f}\".format(a))"
   ]
  },
  {
   "cell_type": "markdown",
   "id": "israeli-quarterly",
   "metadata": {},
   "source": [
    "First we define a function, that calculates the prices $p = \\frac{1}{n+1}a + \\frac{n}{n+1}\\bar c $ rewriting using the definition of the average cost level gives: $p= \\frac{1}{n+1}a + \\frac{c_1+c_2+...+c_n}{n+1}$ which we use in our function."
   ]
  },
  {
   "cell_type": "code",
   "execution_count": 795,
   "id": "caroline-patrol",
   "metadata": {},
   "outputs": [],
   "source": [
    "def price_eq(a, n, c):  \n",
    "    \"\"\"A function that computes price \n",
    "    args:\n",
    "    a : total demand \n",
    "    n : number of firms \n",
    "    c : cost of firm i \n",
    "    \n",
    "    returns a float\n",
    "    \"\"\"\n",
    "        \n",
    "    price = max((a+sum(c))/(1+n), 0)\n",
    "    return price"
   ]
  },
  {
   "cell_type": "markdown",
   "id": "headed-taxation",
   "metadata": {},
   "source": [
    "We now want to define a function that returns the quantity produced for firm $i$.\n",
    "this is given by:\n",
    "$$x_i = \\frac{a-bX-c_i}{b}=\\frac{a-c_i}{b}-\\frac{n}{n+1}\\frac{a-\\bar c}{b} = \\frac{1}{n+1}\\frac{a}{b}+ \\frac{n(\\bar c -c_i)-c_i}{(n+1)b} = \\frac{1}{n+1}\\frac{1}{b}[a- n(\\bar c -c_i)-c_i]$$\n",
    "\n",
    "use that $\\bar c = \\frac{c_1+c_2+...+c_n}{n}$\n",
    "$$x_i = \\frac{1}{n+1}\\frac{1}{b}[a+ (n-1)c_i-(c_1+c_2+...+c_n-c_i)]$$\n",
    "which we now use to define a function, that returns the quantity: "
   ]
  },
  {
   "cell_type": "code",
   "execution_count": 796,
   "id": "current-richards",
   "metadata": {},
   "outputs": [],
   "source": [
    "def xi_eq(a, b, n, c, i): #Returns equilibrium quantity for firm i\n",
    "    \"\"\"A function that computes quantity for firm i\n",
    "    args:\n",
    "    a : total demand \n",
    "    b : elasticity of substitution between the good\n",
    "    n : number of firms \n",
    "    c : cost of firm i \n",
    "    i : the number of the firm\n",
    "    \n",
    "    Returns a float\"\"\"\n",
    "    \n",
    "    x_i = (1/b)*((a+(n-1)*c[i]-sum(c))/(1+n))  \n",
    "    return x_i"
   ]
  },
  {
   "cell_type": "markdown",
   "id": "wrong-concern",
   "metadata": {},
   "source": [
    "We can then define a function, that returns the quantity for the entire number of firms "
   ]
  },
  {
   "cell_type": "code",
   "execution_count": 797,
   "id": "closed-feeling",
   "metadata": {},
   "outputs": [],
   "source": [
    "def X_eq(a, b, n, c): \n",
    "    \"\"\"A function that computes quantity for the total amount of firms \n",
    "    args:\n",
    "    a : total demand \n",
    "    b : elasticity of substitution between the good\n",
    "    n : number of firms \n",
    "    c : cost of firm i \n",
    "    \n",
    "    returns a float\n",
    "    \"\"\"\n",
    "    \n",
    "    X = []\n",
    "    for i in range(0, n, 1):\n",
    "        X.append(xi_eq(a, b, n, c, i))\n",
    "        \n",
    "    return sum(X)"
   ]
  },
  {
   "cell_type": "markdown",
   "id": "selective-teach",
   "metadata": {},
   "source": [
    "Based on the assumtion that $$c_i = \\bar c = c $$ the profit for firm $i$ can be found by:\n",
    "$$\\Pi_{i}=(p-c)x_{i}=\\left(\\frac{a+nc}{n+1}-c\\right)\\frac{1}{n+1}\\frac{1}{b}(a-c)$$\n",
    "\n",
    "Without identical marginal costs $$c_i \\neq c $$ $$\\bar c \\neq c$$ the profit for firm $i$ would be: \n",
    "$$\\Pi_{i}=(p-c_i)x_{i}=\\left(\\frac{a+n\\bar c}{n+1}-c_i\\right)\\frac{1}{n+1}\\frac{1}{b}(a+n(\\bar c - c_i)-c_1) = \\frac{1}{(n+1)^2 * b}(a+n(\\bar c - c_1)-c_i)^2$$\n",
    "\n",
    "By maximizing the previously derived profit function we find the equilibrium profit."
   ]
  },
  {
   "cell_type": "code",
   "execution_count": 798,
   "id": "micro-yugoslavia",
   "metadata": {},
   "outputs": [],
   "source": [
    "def profit_eq(a, b, n, c, i): \n",
    "    \"\"\"A function that computes profit for firm i and sets profit to zero, if there is no production\n",
    "    args:\n",
    "    a : total demand \n",
    "    b : elasticity of substitution between the good\n",
    "    n : number of firms \n",
    "    c : cost of firm i \n",
    "    i : the number of the firm\n",
    "    \n",
    "    returns a float\n",
    "    \"\"\"\n",
    "    \n",
    "    if xi_eq(a, b, n, c, i) == 0: \n",
    "        profit = 0\n",
    "    else:\n",
    "        profit = max((1/b)*(((a-n*c[i]+(sum(c)-c[i]))/(1+n))**2), 0)\n",
    "        \n",
    "    return profit\n"
   ]
  },
  {
   "cell_type": "markdown",
   "id": "mobile-acrobat",
   "metadata": {},
   "source": [
    "We are now ready to define a function, that can solve a general case of cournot competetion with n firms. We choose the the cost for each firm will be drawn from a uniform destribution using random.uniform, given it a seed number such that we can compare with the solution we later solve with Python. Note that adding a seed number means, that every firms will get the same random drawn cost values. This is done in order to compare with the solution later solved with Python. "
   ]
  },
  {
   "cell_type": "code",
   "execution_count": 799,
   "id": "modified-voice",
   "metadata": {},
   "outputs": [],
   "source": [
    "def EQ_N(a, b, n, c_low, c_high,seed): \n",
    "    \"\"\"A function that draws number of firms and compute quantaties, price and average profit\n",
    "    args:\n",
    "    a : total demand \n",
    "    b : elasticity of substitution between the good\n",
    "    N : the maximal number of firms that can be drawn \n",
    "    c_low : the lower bound of the interval for the cost \n",
    "    c_high : the upper bound of the interval for the cost \n",
    "    \n",
    "    Returns a float\"\"\"\n",
    " \n",
    "    \n",
    "    #drawing of costs for each firm:\n",
    "    c = []\n",
    "    np.random.seed(seed)\n",
    "    c = np.random.uniform(c_low,c_high,size=n)\n",
    "    #the price: \n",
    "    price = price_eq(a, n, c) \n",
    "    \n",
    "    #quantities and profits\n",
    "    xi_list = []\n",
    "    profiti_list = []\n",
    "   \n",
    "   \n",
    "    \n",
    "    #the quantity for the entire number of firms\n",
    "    X = X_eq(a, b, n, c)\n",
    "\n",
    "    \n",
    "    return X, price, c    \n",
    "   \n",
    "\n",
    "    "
   ]
  },
  {
   "cell_type": "markdown",
   "id": "korean-project",
   "metadata": {},
   "source": [
    "First we solve with 1000 firms and use the same parameters as with the other three models:"
   ]
  },
  {
   "cell_type": "code",
   "execution_count": 800,
   "id": "nearby-married",
   "metadata": {},
   "outputs": [
    {
     "name": "stdout",
     "output_type": "stream",
     "text": [
      "\n",
      " The number of firms are 1000 \n",
      " The total amount produced is 978.80, while the price is 3.12\n",
      "\n"
     ]
    }
   ],
   "source": [
    "a = 101\n",
    "b = 0.1\n",
    "c_low = 1\n",
    "c_high = 5\n",
    "seed = 1986\n",
    "X,price, c_vec = EQ_N(a,b,1000,c_low,c_high,seed)\n",
    "print('\\n The number of firms are 1000 ' + \n",
    "                  '\\n The total amount produced is ' + Round(X) +',' + ' while the price is ' + Round(price) + \n",
    "                   '\\n')\n"
   ]
  },
  {
   "cell_type": "markdown",
   "id": "particular-drink",
   "metadata": {},
   "source": [
    "**Quantity and pice as functions of n**"
   ]
  },
  {
   "cell_type": "markdown",
   "id": "finite-hacker",
   "metadata": {},
   "source": [
    "We now want to show how the amout produced depends on the number of firms n. We therefor create a list with a range for n:"
   ]
  },
  {
   "cell_type": "code",
   "execution_count": 801,
   "id": "metropolitan-national",
   "metadata": {},
   "outputs": [
    {
     "data": {
      "image/png": "[encoded data removed]",
      "text/plain": [
       "<Figure size 576x396 with 1 Axes>"
      ]
     },
     "metadata": {},
     "output_type": "display_data"
    }
   ],
   "source": [
    "#list with n values \n",
    "n_vec = list(range(100,1000))\n",
    "\n",
    "#array with solutions for different n \n",
    "output_vec1 = array([EQ_N(a,b,n,c_low,c_high,seed) for n in n_vec])\n",
    "\n",
    "\n",
    "\n",
    "#plot the the  quantity as function of number of firms \n",
    "fig,ax = plt.subplots()\n",
    "ax.plot(n_vec,output_vec1[:,0], label = '$X$')\n",
    "ax.title.set_text('Quantatity as a function of number of firms') \n",
    "plt.legend()\n",
    "plt.show()\n",
    "\n"
   ]
  },
  {
   "cell_type": "markdown",
   "id": "chronic-boxing",
   "metadata": {},
   "source": [
    "Furthermore we can show how the price varies with number of firms n:"
   ]
  },
  {
   "cell_type": "code",
   "execution_count": 802,
   "id": "desperate-cloud",
   "metadata": {},
   "outputs": [
    {
     "data": {
      "image/png": "[encoded data removed]",
      "text/plain": [
       "<Figure size 576x396 with 1 Axes>"
      ]
     },
     "metadata": {},
     "output_type": "display_data"
    }
   ],
   "source": [
    "#define solution in order to show price for different n \n",
    "def solution(a,b,c_vec):\n",
    "    n= len(c_vec) #the number of firms will be equal to the length of the c vector \n",
    "    q = n/(n+1) * (a-np.mean(c_vec))/b\n",
    "    p = a-b*q\n",
    "    return q,p\n",
    "\n",
    "output_vec = array([solution(a,b,c_vec) for c_vec in output_vec1[:,2]])\n",
    "\n",
    "#plot the price as function of number of firms\n",
    "plt.style.use('seaborn')\n",
    "plt.clf()\n",
    "plt.plot(n_vec,output_vec[:,1], label = '$price$')\n",
    "plt.title('Price as a function of number of firms') \n",
    "plt.legend()\n",
    "plt.show()"
   ]
  },
  {
   "cell_type": "markdown",
   "id": "approximate-homework",
   "metadata": {},
   "source": [
    "**Solving with python**\\\n",
    "Up untill now we have solved the model analytically and then used python to show the results. However the model can also be solved using python, which will be done in the following section:\n",
    "\n",
    "First we set up the same number og firms and parameters values as in the previous solution:"
   ]
  },
  {
   "cell_type": "code",
   "execution_count": 803,
   "id": "interpreted-graphics",
   "metadata": {},
   "outputs": [],
   "source": [
    "N = 1000 # number of firms \n",
    "#np.random.seed(1986)\n",
    "c_low = 1\n",
    "c_high = 5\n",
    "c_vec = np.random.uniform(c_low,c_high,size=N)"
   ]
  },
  {
   "cell_type": "markdown",
   "id": "assigned-spain",
   "metadata": {},
   "source": [
    "We then use the profit function: $\\Pi_i = (p(x_{-i}+x_{i})-c_i)x_i$ with $p=a-b(x_{-i}+x_i)$ to find the foc with sympy:"
   ]
  },
  {
   "cell_type": "code",
   "execution_count": 804,
   "id": "ideal-diving",
   "metadata": {},
   "outputs": [
    {
     "data": {
      "text/latex": [
       "$\\displaystyle a - b x_{i} - b \\left(x_{i} + x_{-i}\\right) - c_{i}$"
      ],
      "text/plain": [
       "a - b*x_i - b*(x_i + x_{-i}) - c_i"
      ]
     },
     "execution_count": 804,
     "metadata": {},
     "output_type": "execute_result"
    }
   ],
   "source": [
    "c_i = sm.symbols('c_i') \n",
    "x_i = sm.symbols('x_i') # x for firm i\n",
    "x_minus = sm.symbols('x_{-i}') # x for the the opponents\n",
    "\n",
    "#The profit of firm 1 is then: \n",
    "Pi_i = x_i*((a_1-b_1*(x_i+x_minus))-c_i)\n",
    "\n",
    "#giving focs:\n",
    "foc = sm.diff(Pi_i,x_i)\n",
    "foc\n"
   ]
  },
  {
   "cell_type": "markdown",
   "id": "unusual-thesaurus",
   "metadata": {},
   "source": [
    "In order to use this in our solutionen, we rewrite $x_{i}+x_{-i} = \\sum x_{i}$ using np.sum and then define a function for the foc:"
   ]
  },
  {
   "cell_type": "code",
   "execution_count": 805,
   "id": "greek-disaster",
   "metadata": {},
   "outputs": [],
   "source": [
    "def focs(a,b,x_vec,c_vec):\n",
    "    \"\"\"A function that defines the foc for firm i\n",
    "     args:\n",
    "      a : total demand \n",
    "      b : elasticity of substitution between the good\n",
    "      c_vec : a vector with the cost for the firms \n",
    "      x_vec : the quantatiy of firm i \n",
    "     \"\"\"\n",
    "    # use the foc from the sympy.diff \n",
    "    return -b*x_vec+a-b*np.sum(x_vec)-c_vec "
   ]
  },
  {
   "cell_type": "markdown",
   "id": "raising-account",
   "metadata": {},
   "source": [
    "We are now ready to set up a function that solves the case with N firms:"
   ]
  },
  {
   "cell_type": "code",
   "execution_count": 810,
   "id": "partial-raise",
   "metadata": {},
   "outputs": [],
   "source": [
    "def solve(a,b,c_vec):\n",
    "    \"\"\"A function that solve the cournot model with N firms\n",
    "     args:\n",
    "    a : total demand \n",
    "    b : elasticity of substitution between the good\n",
    "    c_vec : a vector with the cost for the firms  \n",
    "    \n",
    "    Returns two floats\n",
    "    \"\"\"\n",
    "    obj = lambda x_vec : focs(a,b,x_vec,c_vec)\n",
    "\n",
    "    res = optimize.root(obj, x0 = [90 for n in range(N)])\n",
    "     \n",
    "    x_vec_star = res.x\n",
    "    Q = np.sum(x_vec_star)\n",
    "    \n",
    "    # Use inverse demand to find price \n",
    "    p = a- b*Q\n",
    "    return Q, p"
   ]
  },
  {
   "cell_type": "markdown",
   "id": "third-pioneer",
   "metadata": {},
   "source": [
    "We then use the profit function: $\\Pi_i = (p(x_{-i}+x_{i})-c_i)x_i$ with $p=a-b(x_{-i}+x_i)$ to find the foc with sympy:"
   ]
  },
  {
   "cell_type": "code",
   "execution_count": 811,
   "id": "polish-maria",
   "metadata": {},
   "outputs": [
    {
     "name": "stdout",
     "output_type": "stream",
     "text": [
      "\n",
      " The number of firms are 1000 \n",
      " The total amount produced is 978.80, while the price is 3.12\n",
      "\n"
     ]
    }
   ],
   "source": [
    "#Choose the same parameters as in previous models \n",
    "a = 101\n",
    "b = 0.1\n",
    "X,p = solve(a,b,c_vec)\n",
    "print('\\n The number of firms are 1000 ' + \n",
    "                  '\\n The total amount produced is ' + Round(Q) +',' + ' while the price is ' + Round(p) + \n",
    "                   '\\n')"
   ]
  },
  {
   "cell_type": "code",
   "execution_count": 808,
   "id": "following-hawaiian",
   "metadata": {},
   "outputs": [
    {
     "name": "stdout",
     "output_type": "stream",
     "text": [
      "\n",
      " The number of firms are 1000 \n",
      " The total amount produced is 978.80, while the price is 3.12\n",
      "\n"
     ]
    }
   ],
   "source": [
    "#Compare with the solution from the analytical solution\n",
    "X,price, c_vec = EQ_N(a,b,1000,c_low,c_high,1986)\n",
    "print('\\n The number of firms are 1000 ' + \n",
    "                  '\\n The total amount produced is ' + Round(X) +',' + ' while the price is ' + Round(price) + \n",
    "                   '\\n')"
   ]
  },
  {
   "cell_type": "markdown",
   "id": "subtle-morris",
   "metadata": {},
   "source": [
    "We see, that we get the same result for both the analytical solution and the solution using Python to solve."
   ]
  },
  {
   "cell_type": "code",
   "execution_count": 809,
   "id": "laughing-manchester",
   "metadata": {},
   "outputs": [],
   "source": [
    "#my try with the figure \n",
    "#list with n values \n",
    "#n_vec = list(range(100,1000))\n",
    "\n",
    "#array with solutions for different n \n",
    "#output_vec1 = array([solve(a,b,c_vec) for N in n_vec])\n",
    "\n",
    "#plot the the  quantity as function of number of firms \n",
    "#fig,ax = plt.subplots()\n",
    "#ax.plot(n_vec,output_vec1[:,0], label = '$X$')\n",
    "#ax.title.set_text('Quantatity as a function of number of firms') \n",
    "#plt.legend()\n",
    "#plt.show()\n",
    "\n",
    "\n"
   ]
  },
  {
   "cell_type": "markdown",
   "id": "green-swiss",
   "metadata": {},
   "source": [
    "**Conclusion**"
   ]
  },
  {
   "cell_type": "markdown",
   "id": "large-pearl",
   "metadata": {},
   "source": [
    "In this paper we examine two firms who have the possibility of competing in Bertrand, Stackelberg and Cournot. We use the same parameter values for all competition types, and find that the firms benefit the most from competing in a Cournot setting as this yields the highest total profits of XX. This is intuitive, as in contrast to Bertrand, the firms will undercut each other until their price is equal to their marginal costs to obtain efficiency. Therefore, this setting yields a price as in perfect competition, whereas Cournot yields an oligopoly equilibrium. \n",
    "\n",
    "As Cournot yields the best outcome in terms of profits for two firms, we extend this setting for $n$ firms. We find that for $n\\rightarrow\\infty$, the totalt amount produces increases, while the price falls because competing becomes more intense as the competition setting moves from oligopoly to infinitely many firms competing in quantities."
   ]
  },
  {
   "cell_type": "code",
   "execution_count": null,
   "id": "certified-vault",
   "metadata": {},
   "outputs": [],
   "source": []
  }
 ],
 "metadata": {
  "kernelspec": {
   "display_name": "Python 3",
   "language": "python",
   "name": "python3"
  },
  "language_info": {
   "codemirror_mode": {
    "name": "ipython",
    "version": 3
   },
   "file_extension": ".py",
   "mimetype": "text/x-python",
   "name": "python",
   "nbconvert_exporter": "python",
   "pygments_lexer": "ipython3",
   "version": "3.8.5"
  }
 },
 "nbformat": 4,
 "nbformat_minor": 5
}
