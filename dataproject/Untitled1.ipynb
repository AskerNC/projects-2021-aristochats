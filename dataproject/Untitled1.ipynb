{
 "cells": [
  {
   "cell_type": "code",
   "execution_count": 21,
   "id": "exterior-beads",
   "metadata": {},
   "outputs": [],
   "source": [
    "#Import packages\n",
    "from scipy import optimize,arange\n",
    "from numpy import array\n",
    "import numpy as np\n",
    "import matplotlib.pyplot as plt\n",
    "import random\n",
    "import sympy as sm\n",
    "from math import *\n",
    "%matplotlib inline\n",
    "from IPython.display import Markdown, display\n",
    "import pandas as pd\n",
    "\n",
    "\n",
    "a = sm.symbols('a') \n",
    "c_vec = sm.symbols('c_vec') \n",
    "b = sm.symbols('b') \n",
    "q_vec = sm.symbols('q_vec') "
   ]
  },
  {
   "cell_type": "code",
   "execution_count": 18,
   "id": "celtic-frost",
   "metadata": {},
   "outputs": [],
   "source": [
    "N = 1000 # number of firms \n",
    "np.random.seed(1986)\n",
    "#c_low = 1 \n",
    "#c_high = 5\n",
    "#c_vec = np.random.uniform(c_low,c_high,size=N)"
   ]
  },
  {
   "cell_type": "code",
   "execution_count": 30,
   "id": "authentic-winning",
   "metadata": {},
   "outputs": [],
   "source": [
    "#first we define the profit function for firm i:\n",
    "#sumq = np.sum(q_vec)\n",
    "#Pi_i = q_vec*((a-b*sumq)-c_vec)\n",
    "Pi_i = q_vec*((a-b*np.sum(q_vec))-c_vec)\n"
   ]
  },
  {
   "cell_type": "code",
   "execution_count": 31,
   "id": "dramatic-christian",
   "metadata": {},
   "outputs": [
    {
     "data": {
      "text/latex": [
       "$\\displaystyle a - 2 b q_{vec} - c_{vec}$"
      ],
      "text/plain": [
       "a - 2*b*q_vec - c_vec"
      ]
     },
     "execution_count": 31,
     "metadata": {},
     "output_type": "execute_result"
    }
   ],
   "source": [
    "focs = sm.diff(Pi_i,q_vec)\n",
    "focs"
   ]
  },
  {
   "cell_type": "code",
   "execution_count": 9,
   "id": "binding-promotion",
   "metadata": {},
   "outputs": [],
   "source": [
    "def focs(a,b,q_vec,c_vec):\n",
    "    # Using analytical FOCs from pdf-link -> kom frem til denne ved sympy!!\n",
    "    return -b*q_vec+a-b*np.sum(q_vec)-c_vec "
   ]
  },
  {
   "cell_type": "code",
   "execution_count": 10,
   "id": "super-abraham",
   "metadata": {},
   "outputs": [],
   "source": [
    "def solve(a,b,c_vec):\n",
    "    obj = lambda q_vec : focs(a,b,q_vec,c_vec)\n",
    "\n",
    "    res = optimize.root(obj, x0 = [90 for n in range(N)])\n",
    "     \n",
    "    q_vec_star = res.x\n",
    "    Q = np.sum(q_vec_star)\n",
    "    \n",
    "    # Use inverse demand to find price \n",
    "    p = a- b*Q\n",
    "    return Q, p"
   ]
  },
  {
   "cell_type": "code",
   "execution_count": 14,
   "id": "surprising-alignment",
   "metadata": {},
   "outputs": [
    {
     "name": "stdout",
     "output_type": "stream",
     "text": [
      "978.8015079161239 3.119849208387606\n"
     ]
    }
   ],
   "source": [
    "Q,p = solve(a,b,c_vec)\n",
    "print (Q,p)\n"
   ]
  },
  {
   "cell_type": "code",
   "execution_count": 15,
   "id": "tropical-bibliography",
   "metadata": {},
   "outputs": [
    {
     "data": {
      "image/png": "[encoded data removed]",
      "text/plain": [
       "<Figure size 432x288 with 1 Axes>"
      ]
     },
     "metadata": {
      "needs_background": "light"
     },
     "output_type": "display_data"
    }
   ],
   "source": [
    "n_vec = list(range(100,1000))\n",
    "\n",
    "\n",
    "output_vec1 = array([solve(a,b,c_vec)for n in n_vec])\n",
    "\n",
    "\n",
    "fig,ax = plt.subplots()\n",
    "ax.plot(n_vec,output_vec1[:,0], label = '$X$')\n",
    "plt.legend()\n",
    "plt.show()"
   ]
  },
  {
   "cell_type": "code",
   "execution_count": null,
   "id": "thorough-nothing",
   "metadata": {},
   "outputs": [],
   "source": []
  }
 ],
 "metadata": {
  "kernelspec": {
   "display_name": "Python 3",
   "language": "python",
   "name": "python3"
  },
  "language_info": {
   "codemirror_mode": {
    "name": "ipython",
    "version": 3
   },
   "file_extension": ".py",
   "mimetype": "text/x-python",
   "name": "python",
   "nbconvert_exporter": "python",
   "pygments_lexer": "ipython3",
   "version": "3.8.5"
  }
 },
 "nbformat": 4,
 "nbformat_minor": 5
}
