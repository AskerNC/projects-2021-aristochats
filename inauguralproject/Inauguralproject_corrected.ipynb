{
 "cells": [
  {
   "cell_type": "markdown",
   "metadata": {},
   "source": [
    "# Inaugural Project Spring 2021"
   ]
  },
  {
   "cell_type": "markdown",
   "metadata": {},
   "source": [
    "**Team:** Aristochats\n",
    "\n",
    "**Members:** Theresa Berz (txj188), Adrian Moise (bln333), Nam Anh Nguyen (xgw631), Karen Thule (lnc394)\n"
   ]
  },
  {
   "cell_type": "markdown",
   "metadata": {},
   "source": [
    "# Question 1"
   ]
  },
  {
   "cell_type": "markdown",
   "metadata": {},
   "source": [
    "Isolating $c$ in equation (3), we find \n",
    "\n",
    "$$c=m-\\tau\\left(p_{h},\\tilde{p}_{h}\\right)$$\n",
    "\n",
    "Now, inserting (4) into $c$ we find\n",
    "\n",
    "$$c=m-(rp_{h}+\\tau^{g}\\tilde{p}_{h}+\\tau^{p}\\text{max}\\left\\{ \\tilde{p}_{h}-\\bar{p},0\\right\\})$$\n",
    "\n",
    "Thus, we can write up the objective of the household is now written as \n",
    "\n",
    "$$c^{*},h^{*}=\\text{argmax}\\left(m-(rp_{h}+\\tau^{g}\\tilde{p}_{h}+\\tau^{p}\\text{max}\\left\\{ \\tilde{p}_{h}-\\bar{p},0\\right\\}) \\right)^{1-\\phi}h^{\\phi}$$"
   ]
  },
  {
   "cell_type": "code",
   "execution_count": 2,
   "metadata": {},
   "outputs": [
    {
     "name": "stdout",
     "output_type": "stream",
     "text": [
      "The agent will choose optimal quality = 4.17, which implies optimal consumption = 0.35, this yields an overall utility of 0.74\n"
     ]
    }
   ],
   "source": [
    "#Importing packages\n",
    "from scipy import optimize\n",
    "import numpy as np\n",
    "import matplotlib.pyplot as plt  \n",
    "from types import SimpleNamespace \n",
    "\n",
    "plt.style.use(\"seaborn\")\n",
    "\n",
    "#Defining the parameters in the SimpleNamespace with the name 'values' \n",
    "values = SimpleNamespace()\n",
    "values.epsilon=0.5\n",
    "values.r=0.03\n",
    "values.m=0.5\n",
    "values.tg=0.012\n",
    "values.tp=0.004\n",
    "values.pquer=3\n",
    "values.phi=0.3\n",
    "\n",
    "\n",
    "#Defining the utility function\n",
    "def u_func(h, values):\n",
    "    \"\"\"A function that computes utility\n",
    "    args:\n",
    "    h (float):amount of housing consumption\n",
    "    values (Simplenamespace): parameters in the utility function\n",
    "    \n",
    "    Returns a float\"\"\"\n",
    "    phtilde = h*values.epsilon\n",
    "    u = (values.m-(values.r*h + values.tg*phtilde + values.tp*max(h*values.epsilon - values.pquer,0)))**(1-values.phi)*h**values.phi  \n",
    "    return u\n",
    "\n",
    "\n",
    "\n",
    "    \n",
    "#Defining the optimizer \n",
    "def u_optimiser(values):\n",
    "    \"\"\"\n",
    "     A function that computes optimal valuse\n",
    "    args:\n",
    "    values (Simplenamespace): parameters in the utility function\n",
    "    \n",
    "    Returns a float\n",
    "    \"\"\"\n",
    "    def obj(h, values):\n",
    "        return -u_func(h,values)\n",
    "    \n",
    "    solution = optimize.minimize_scalar(obj, method=\"brent\", args=(values))  \n",
    "    h = solution.x \n",
    "    c = values.m - (values.r*h + values.tg*h*values.epsilon + values.tp*max(h*values.epsilon - values.pquer,0))\n",
    "    return h, c\n",
    "\n",
    "#Finding the optimal results \n",
    "h_star = u_optimiser(values)[0]\n",
    "c_star = u_optimiser(values)[1]\n",
    "u_star = u_func(h_star, values)\n",
    "print(f'The agent will choose optimal quality = {h_star:.2f}, which implies optimal consumption = {c_star:.2f}, this yields an overall utility of {u_star:.2f}')\n",
    "\n"
   ]
  },
  {
   "cell_type": "markdown",
   "metadata": {},
   "source": [
    "# Question 2\n"
   ]
  },
  {
   "cell_type": "code",
   "execution_count": 3,
   "metadata": {},
   "outputs": [
    {
     "data": {
      "image/png": "[encoded data removed]",
      "text/plain": [
       "<Figure size 720x288 with 2 Axes>"
      ]
     },
     "metadata": {},
     "output_type": "display_data"
    }
   ],
   "source": [
    "#Setting number of observations\n",
    "N = 1000\n",
    "\n",
    "#Generating vectors for c, h and m\n",
    "m_vals = np.linspace(0.4, 1.5, N)  \n",
    "h_vals = np.empty(N)\n",
    "c_vals = np.empty(N)\n",
    "\n",
    "\n",
    "#Looping the optimiser over 'm_vals'\n",
    "for i,m in enumerate(m_vals):\n",
    "    values.m =m\n",
    "    lc = u_optimiser(values)\n",
    "    h_vals[i]=lc[0]\n",
    "    c_vals[i]=lc[1]\n",
    "\n",
    "#Defining the figures \n",
    "fig = plt.figure(figsize=(10,4))\n",
    "\n",
    "#Left-side plot.\n",
    "ax_left=fig.add_subplot(1,2,1)\n",
    "ax_left.plot(m_vals, h_vals)\n",
    "\n",
    "ax_left.set_title('$h^*$ as a function of m')\n",
    "ax_left.set_xlabel('$m$')\n",
    "ax_left.set_ylabel('$h^*$')\n",
    "ax_left.grid(True)\n",
    "\n",
    "#Right-side plot.\n",
    "ax_right = fig.add_subplot(1,2,2)\n",
    "ax_right.plot(m_vals, c_vals,color='blue')\n",
    "\n",
    "ax_right.set_title('$c^*$ as a function of m')\n",
    "ax_right.set_xlabel('$m$')\n",
    "ax_right.set_ylabel('$c^*$')\n",
    "ax_right.grid(True)\n",
    "\n",
    "#Plotting figure. \n",
    "plt.show()\n"
   ]
  },
  {
   "cell_type": "markdown",
   "metadata": {},
   "source": [
    "# Question 3 \n"
   ]
  },
  {
   "cell_type": "code",
   "execution_count": 4,
   "metadata": {},
   "outputs": [
    {
     "name": "stdout",
     "output_type": "stream",
     "text": [
      "The average tax burden per household is = 0.03633.\n"
     ]
    }
   ],
   "source": [
    "#Setting parameters from the exercise\n",
    "\n",
    "seed = 1  \n",
    "mi_mu = -0.4\n",
    "mi_sigma = 0.35\n",
    "N = 10000\n",
    "\n",
    "#Defining the average tax function\n",
    "def average_tax(seed, mu, sigma, size, values): \n",
    "    \"\"\"A function that computes average tax\n",
    "    args:\n",
    "    seed (int): seed number for generating the normal destribution\n",
    "    mi_mu (float): Mean value of the underlying normal distribution\n",
    "    mi_sigma (float): Standard deviation of the underlying normal distribution\n",
    "    values (Simplenamespace): parameters in the utility function\n",
    "    \n",
    "    Returns a float\"\"\"\n",
    "    np.random.seed(seed)\n",
    "    mi_values = np.random.lognormal(mu, sigma, size)\n",
    "    h_vals2 = np.empty(N)\n",
    "    Poptax = np.empty(N)\n",
    "    for i,m1 in enumerate(mi_values):\n",
    "        values.m= m1\n",
    "        lc2 = u_optimiser(values)\n",
    "        h_vals2[i] =lc2[0]\n",
    "        Poptax[i] = values.tg*h_vals2[i]*values.epsilon+values.tp*max(h_vals2[i]*values.epsilon-values.pquer,0)\n",
    "    tax1 = sum(Poptax)\n",
    "    return tax1/N\n",
    "\n",
    "ATB = average_tax(seed, mi_mu, mi_sigma, N,values)\n",
    "print(f'The average tax burden per household is = {ATB:.5f}.')\n",
    "\n"
   ]
  },
  {
   "cell_type": "markdown",
   "metadata": {},
   "source": [
    "# Question 4\n"
   ]
  },
  {
   "cell_type": "code",
   "execution_count": 5,
   "metadata": {},
   "outputs": [
    {
     "name": "stdout",
     "output_type": "stream",
     "text": [
      "The agent will choose optimal quality = 3.95, which implies optimal consumption = 0.35, this yields an overall utility of 0.72\n",
      "The average tax burden per household is = 0.045036.\n"
     ]
    }
   ],
   "source": [
    "#Updating the values \n",
    "values2 = SimpleNamespace()\n",
    "values2.epsilon=0.8\n",
    "values2.r=0.03\n",
    "values2.m=0.5\n",
    "values2.tg=0.01\n",
    "values2.tp=0.009\n",
    "values2.pquer=8\n",
    "values2.phi=0.3\n",
    "\n",
    "#Calculating the new optimal c and h and the total utility \n",
    "h_star2 = u_optimiser(values2)[0]\n",
    "c_star2 = u_optimiser(values2)[1]\n",
    "u_star2 = u_func(h_star2, values2)\n",
    "print(f'The agent will choose optimal quality = {h_star2:.2f}, which implies optimal consumption = {c_star2:.2f}, this yields an overall utility of {u_star2:.2f}')\n",
    "\n",
    "\n",
    "#Calculating the new average tax \n",
    "ATB2 = average_tax(seed, mi_mu, mi_sigma, N,values2)\n",
    "print(f'The average tax burden per household is = {ATB2:.6f}.')\n"
   ]
  },
  {
   "cell_type": "markdown",
   "metadata": {},
   "source": [
    "# Question 5\n"
   ]
  },
  {
   "cell_type": "code",
   "execution_count": 5,
   "metadata": {},
   "outputs": [],
   "source": [
    "#Defining an excess tax function\n",
    "def obj(tg,values):\n",
    "    \"\"\"A function that computes the difference between a guess and the average tax ATB\n",
    "    args:\n",
    "    tg (float): tax \n",
    "    values (Simplenamespace): parameters in the utility function\n",
    "    \n",
    "    Returns a float\"\"\"\n",
    "    values.tg = tg\n",
    "    avg = average_tax(seed, mi_mu, mi_sigma, N, values)    \n",
    "    return avg-ATB\n"
   ]
  },
  {
   "cell_type": "code",
   "execution_count": 6,
   "metadata": {},
   "outputs": [],
   "source": [
    "#Defining a guess function \n",
    "def find_tg(tg_guess,values,kappa=1,eps=1e-8,maxiter=500):\n",
    "    \"\"\"A function loops over different guess until the the difference between guess and ATB is smaller than eps\n",
    "    args:\n",
    "    tg_guess (float): guess for tg \n",
    "    values (Simplenamespace): parameters in the utility function\n",
    "    kappa (float):\n",
    "    eps (float): lower bound for the difference \n",
    "    maxiter(int): max number of iterations \n",
    "    Returns a float\"\"\"\n",
    "    tg = tg_guess\n",
    "    t = 0\n",
    "    while True:\n",
    "\n",
    "        # a. step 1: calculating excess tax\n",
    "        Z1 = obj(tg,values)\n",
    "        \n",
    "        # b: step 2: calculating and then stops when it goes below esp \n",
    "        if  np.abs(Z1) < eps or t >= maxiter:\n",
    "            print(f'{t:3d}: tg = {tg:12.8f} -> excess tax -> {Z1:14.8f}')\n",
    "            print(f'Operation done')\n",
    "            break    \n",
    "\n",
    "         # c. step 3: updating tg\n",
    "        tg = tg*(1-kappa*Z1/ATB)\n",
    "            \n",
    "        t += 1    \n",
    "        \n",
    "        # d. step 4: returning only the first 4 and then every 25th \n",
    "        if t < 5 or t%25 == 0:\n",
    "            print(f'{t:3d}: tg = {tg:12.8f} -> excess tax -> {Z1:14.8f}')\n",
    "        elif t == 5:\n",
    "            print('   ...')\n",
    "            \n",
    "\n",
    "\n",
    "    return tg\n"
   ]
  },
  {
   "cell_type": "code",
   "execution_count": 7,
   "metadata": {},
   "outputs": [
    {
     "name": "stdout",
     "output_type": "stream",
     "text": [
      "  1: tg =   0.00760246 -> excess tax ->     0.00870949\n",
      "  2: tg =   0.00765872 -> excess tax ->    -0.00026884\n",
      "  3: tg =   0.00766882 -> excess tax ->    -0.00004789\n",
      "  4: tg =   0.00767057 -> excess tax ->    -0.00000829\n",
      "   ...\n",
      "  7: tg =   0.00767094 -> excess tax ->    -0.00000001\n",
      "Operation done\n",
      "The new tg is tg=  0.00767094\n"
     ]
    }
   ],
   "source": [
    "#Finding the new tg with a guess starting at 0.01 \n",
    "tg=find_tg(0.01,values2)\n",
    "print(f'The new tg is tg={tg:12.8f}')"
   ]
  },
  {
   "cell_type": "code",
   "execution_count": null,
   "metadata": {},
   "outputs": [],
   "source": []
  }
 ],
 "metadata": {
  "kernelspec": {
   "display_name": "Python 3",
   "language": "python",
   "name": "python3"
  },
  "language_info": {
   "codemirror_mode": {
    "name": "ipython",
    "version": 3
   },
   "file_extension": ".py",
   "mimetype": "text/x-python",
   "name": "python",
   "nbconvert_exporter": "python",
   "pygments_lexer": "ipython3",
   "version": "3.8.5"
  }
 },
 "nbformat": 4,
 "nbformat_minor": 4
}
